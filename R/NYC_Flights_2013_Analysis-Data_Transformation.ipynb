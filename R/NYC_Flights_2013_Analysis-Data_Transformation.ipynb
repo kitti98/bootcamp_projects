{
 "cells":[
  {
   "cell_type":"markdown",
   "source":[
    "# Live Class - Data Transformation"
   ],
   "attachments":{
    
   },
   "metadata":{
    "datalore":{
     "node_id":"Live Class - Data Transformation",
     "type":"MD",
     "hide_input_from_viewers":false,
     "hide_output_from_viewers":false,
     "sheet_delimiter":true
    }
   }
  },
  {
   "cell_type":"code",
   "source":[
    "# Shift + Enter           -> RUN the code cell\n",
    "# Ctrl + M                -> convert code cell to MARKDOWN cell\n",
    "# Ctrl + Shift + Arrow Up -> move cell UP"
   ],
   "execution_count":1,
   "outputs":[
    
   ],
   "metadata":{
    "datalore":{
     "node_id":"pR0JXN4fKnxoI4YjR0x2bw",
     "type":"CODE",
     "hide_input_from_viewers":true,
     "hide_output_from_viewers":true,
     "report_properties":{
      
     }
    }
   }
  },
  {
   "cell_type":"code",
   "source":[
    "print(\"hello world\")\n",
    "print(\"This is R programming language\")"
   ],
   "execution_count":2,
   "outputs":[
    {
     "name":"stdout",
     "text":[
      "[1] \"hello world\"\n",
      "[1] \"This is R programming language\"\n"
     ],
     "output_type":"stream"
    }
   ],
   "metadata":{
    "datalore":{
     "node_id":"XusIp9NFgWnaA1LNpkCbu8",
     "type":"CODE",
     "hide_input_from_viewers":true,
     "hide_output_from_viewers":true,
     "report_properties":{
      
     }
    }
   }
  },
  {
   "cell_type":"markdown",
   "source":[
    "# MARKDOWN cell -> Hello World"
   ],
   "attachments":{
    
   },
   "metadata":{
    "datalore":{
     "node_id":"vj4LxS6MONOli56bM2km9a",
     "type":"MD",
     "hide_input_from_viewers":true,
     "hide_output_from_viewers":true,
     "report_properties":{
      
     }
    }
   }
  },
  {
   "cell_type":"code",
   "source":[
    "x <- 100\n",
    "y <- 150\n",
    "m <- \"Hello\""
   ],
   "execution_count":3,
   "outputs":[
    
   ],
   "metadata":{
    "datalore":{
     "node_id":"immafChagHvhZZbeV0o6oa",
     "type":"CODE",
     "hide_input_from_viewers":true,
     "hide_output_from_viewers":true,
     "report_properties":{
      
     }
    }
   }
  },
  {
   "cell_type":"code",
   "source":[
    "head(mtcars)"
   ],
   "execution_count":4,
   "outputs":[
    {
     "data":{
      "text\/html":[
       "<table class=\"dataframe\">\n",
       "<caption>A data.frame: 6 × 11<\/caption>\n",
       "<thead>\n",
       "\t<tr><th><\/th><th scope=col>mpg<\/th><th scope=col>cyl<\/th><th scope=col>disp<\/th><th scope=col>hp<\/th><th scope=col>drat<\/th><th scope=col>wt<\/th><th scope=col>qsec<\/th><th scope=col>vs<\/th><th scope=col>am<\/th><th scope=col>gear<\/th><th scope=col>carb<\/th><\/tr>\n",
       "\t<tr><th><\/th><th scope=col>&lt;dbl&gt;<\/th><th scope=col>&lt;dbl&gt;<\/th><th scope=col>&lt;dbl&gt;<\/th><th scope=col>&lt;dbl&gt;<\/th><th scope=col>&lt;dbl&gt;<\/th><th scope=col>&lt;dbl&gt;<\/th><th scope=col>&lt;dbl&gt;<\/th><th scope=col>&lt;dbl&gt;<\/th><th scope=col>&lt;dbl&gt;<\/th><th scope=col>&lt;dbl&gt;<\/th><th scope=col>&lt;dbl&gt;<\/th><\/tr>\n",
       "<\/thead>\n",
       "<tbody>\n",
       "\t<tr><th scope=row>Mazda RX4<\/th><td>21.0<\/td><td>6<\/td><td>160<\/td><td>110<\/td><td>3.90<\/td><td>2.620<\/td><td>16.46<\/td><td>0<\/td><td>1<\/td><td>4<\/td><td>4<\/td><\/tr>\n",
       "\t<tr><th scope=row>Mazda RX4 Wag<\/th><td>21.0<\/td><td>6<\/td><td>160<\/td><td>110<\/td><td>3.90<\/td><td>2.875<\/td><td>17.02<\/td><td>0<\/td><td>1<\/td><td>4<\/td><td>4<\/td><\/tr>\n",
       "\t<tr><th scope=row>Datsun 710<\/th><td>22.8<\/td><td>4<\/td><td>108<\/td><td> 93<\/td><td>3.85<\/td><td>2.320<\/td><td>18.61<\/td><td>1<\/td><td>1<\/td><td>4<\/td><td>1<\/td><\/tr>\n",
       "\t<tr><th scope=row>Hornet 4 Drive<\/th><td>21.4<\/td><td>6<\/td><td>258<\/td><td>110<\/td><td>3.08<\/td><td>3.215<\/td><td>19.44<\/td><td>1<\/td><td>0<\/td><td>3<\/td><td>1<\/td><\/tr>\n",
       "\t<tr><th scope=row>Hornet Sportabout<\/th><td>18.7<\/td><td>8<\/td><td>360<\/td><td>175<\/td><td>3.15<\/td><td>3.440<\/td><td>17.02<\/td><td>0<\/td><td>0<\/td><td>3<\/td><td>2<\/td><\/tr>\n",
       "\t<tr><th scope=row>Valiant<\/th><td>18.1<\/td><td>6<\/td><td>225<\/td><td>105<\/td><td>2.76<\/td><td>3.460<\/td><td>20.22<\/td><td>1<\/td><td>0<\/td><td>3<\/td><td>1<\/td><\/tr>\n",
       "<\/tbody>\n",
       "<\/table>\n"
      ]
     },
     "metadata":{
      
     },
     "output_type":"display_data"
    }
   ],
   "metadata":{
    "datalore":{
     "node_id":"HilJQNkjKPfYbf0px6s6oV",
     "type":"CODE",
     "hide_input_from_viewers":true,
     "hide_output_from_viewers":true,
     "report_properties":{
      
     }
    }
   }
  },
  {
   "cell_type":"code",
   "source":[
    
   ],
   "execution_count":null,
   "outputs":[
    
   ],
   "metadata":{
    "datalore":{
     "node_id":"LNwQbflkicpZopH51cr5sV",
     "type":"CODE",
     "hide_input_from_viewers":true,
     "hide_output_from_viewers":true,
     "report_properties":{
      
     }
    }
   }
  },
  {
   "cell_type":"markdown",
   "source":[
    "# Homework - Sprint 04 - Data Transformation"
   ],
   "attachments":{
    
   },
   "metadata":{
    "datalore":{
     "node_id":"Homework - Sprint 04 - Data Transformation",
     "type":"MD",
     "hide_input_from_viewers":false,
     "hide_output_from_viewers":false,
     "sheet_delimiter":true
    }
   }
  },
  {
   "cell_type":"markdown",
   "source":[
    "# NYC Flights 2013 Analysis"
   ],
   "attachments":{
    
   },
   "metadata":{
    "datalore":{
     "node_id":"3v8SQt7KHuQ5Ik2ZNyVzPv",
     "type":"MD",
     "hide_input_from_viewers":false,
     "hide_output_from_viewers":false,
     "report_properties":{
      
     }
    }
   }
  },
  {
   "cell_type":"code",
   "source":[
    "install.packages(\"nycflights13\")\n",
    "\n",
    "library(tidyverse)\n",
    "library(nycflights13)"
   ],
   "execution_count":5,
   "outputs":[
    {
     "name":"stderr",
     "text":[
      "Updating HTML index of packages in '.Library'\n",
      "\n",
      "Making 'packages.html' ...\n",
      " done\n",
      "\n",
      "Warning message in system(\"timedatectl\", intern = TRUE):\n",
      "“running command 'timedatectl' had status 1”\n",
      "Warning message:\n",
      "“Failed to locate timezone database”\n",
      "── \u001b[1mAttaching packages\u001b[22m ─────────────────────────────────────── tidyverse 1.3.1 ──\n",
      "\n",
      "\u001b[32m✔\u001b[39m \u001b[34mggplot2\u001b[39m 3.3.5     \u001b[32m✔\u001b[39m \u001b[34mpurrr  \u001b[39m 0.3.4\n",
      "\u001b[32m✔\u001b[39m \u001b[34mtibble \u001b[39m 3.1.5     \u001b[32m✔\u001b[39m \u001b[34mdplyr  \u001b[39m 1.0.7\n",
      "\u001b[32m✔\u001b[39m \u001b[34mtidyr  \u001b[39m 1.1.4     \u001b[32m✔\u001b[39m \u001b[34mstringr\u001b[39m 1.4.0\n",
      "\u001b[32m✔\u001b[39m \u001b[34mreadr  \u001b[39m 2.0.2     \u001b[32m✔\u001b[39m \u001b[34mforcats\u001b[39m 0.5.1\n",
      "\n",
      "── \u001b[1mConflicts\u001b[22m ────────────────────────────────────────── tidyverse_conflicts() ──\n",
      "\u001b[31m✖\u001b[39m \u001b[34mdplyr\u001b[39m::\u001b[32mfilter()\u001b[39m  masks \u001b[34mstats\u001b[39m::filter()\n",
      "\u001b[31m✖\u001b[39m \u001b[34mpurrr\u001b[39m::\u001b[32mflatten()\u001b[39m masks \u001b[34mjsonlite\u001b[39m::flatten()\n",
      "\u001b[31m✖\u001b[39m \u001b[34mdplyr\u001b[39m::\u001b[32mlag()\u001b[39m     masks \u001b[34mstats\u001b[39m::lag()\n",
      "\n"
     ],
     "output_type":"stream"
    }
   ],
   "metadata":{
    "datalore":{
     "node_id":"HDE7Qg5lXLgz1ofQrIAQr1",
     "type":"CODE",
     "hide_input_from_viewers":false,
     "hide_output_from_viewers":false,
     "report_properties":{
      
     }
    }
   }
  },
  {
   "cell_type":"code",
   "source":[
    "\n",
    "flights <- nycflights13::flights\n",
    "airlines <- nycflights13::airlines\n",
    "airports <- nycflights13::airports\n",
    "planes <- nycflights13::planes\n",
    "weather <- nycflights13::weather\n",
    "flights2 <- read_csv(\"nycflights13_flights.csv\", show_col_types = FALSE)"
   ],
   "execution_count":6,
   "outputs":[
    
   ],
   "metadata":{
    "datalore":{
     "node_id":"s0iaZ985WyOlUlXcqtO7Ri",
     "type":"CODE",
     "hide_input_from_viewers":false,
     "hide_output_from_viewers":false,
     "report_properties":{
      
     }
    }
   }
  },
  {
   "cell_type":"code",
   "source":[
    "glimpse(flights)\n",
    "cat(\"\\n\")\n",
    "glimpse(airlines)\n",
    "cat(\"\\n\")\n",
    "glimpse(airports)\n",
    "cat(\"\\n\")\n",
    "glimpse(planes)\n",
    "cat(\"\\n\")\n",
    "glimpse(weather)"
   ],
   "execution_count":7,
   "outputs":[
    {
     "name":"stdout",
     "text":[
      "Rows: 336,776\n",
      "Columns: 19\n",
      "$ year           \u001b[3m\u001b[90m<int>\u001b[39m\u001b[23m 2013, 2013, 2013, 2013, 2013, 2013, 2013, 2013, 2013, 2…\n",
      "$ month          \u001b[3m\u001b[90m<int>\u001b[39m\u001b[23m 1, 1, 1, 1, 1, 1, 1, 1, 1, 1, 1, 1, 1, 1, 1, 1, 1, 1, 1…\n",
      "$ day            \u001b[3m\u001b[90m<int>\u001b[39m\u001b[23m 1, 1, 1, 1, 1, 1, 1, 1, 1, 1, 1, 1, 1, 1, 1, 1, 1, 1, 1…\n",
      "$ dep_time       \u001b[3m\u001b[90m<int>\u001b[39m\u001b[23m 517, 533, 542, 544, 554, 554, 555, 557, 557, 558, 558, …\n",
      "$ sched_dep_time \u001b[3m\u001b[90m<int>\u001b[39m\u001b[23m 515, 529, 540, 545, 600, 558, 600, 600, 600, 600, 600, …\n",
      "$ dep_delay      \u001b[3m\u001b[90m<dbl>\u001b[39m\u001b[23m 2, 4, 2, -1, -6, -4, -5, -3, -3, -2, -2, -2, -2, -2, -1…\n",
      "$ arr_time       \u001b[3m\u001b[90m<int>\u001b[39m\u001b[23m 830, 850, 923, 1004, 812, 740, 913, 709, 838, 753, 849,…\n",
      "$ sched_arr_time \u001b[3m\u001b[90m<int>\u001b[39m\u001b[23m 819, 830, 850, 1022, 837, 728, 854, 723, 846, 745, 851,…\n",
      "$ arr_delay      \u001b[3m\u001b[90m<dbl>\u001b[39m\u001b[23m 11, 20, 33, -18, -25, 12, 19, -14, -8, 8, -2, -3, 7, -1…\n",
      "$ carrier        \u001b[3m\u001b[90m<chr>\u001b[39m\u001b[23m \"UA\", \"UA\", \"AA\", \"B6\", \"DL\", \"UA\", \"B6\", \"EV\", \"B6\", \"…\n",
      "$ flight         \u001b[3m\u001b[90m<int>\u001b[39m\u001b[23m 1545, 1714, 1141, 725, 461, 1696, 507, 5708, 79, 301, 4…\n",
      "$ tailnum        \u001b[3m\u001b[90m<chr>\u001b[39m\u001b[23m \"N14228\", \"N24211\", \"N619AA\", \"N804JB\", \"N668DN\", \"N394…\n",
      "$ origin         \u001b[3m\u001b[90m<chr>\u001b[39m\u001b[23m \"EWR\", \"LGA\", \"JFK\", \"JFK\", \"LGA\", \"EWR\", \"EWR\", \"LGA\",…\n",
      "$ dest           \u001b[3m\u001b[90m<chr>\u001b[39m\u001b[23m \"IAH\", \"IAH\", \"MIA\", \"BQN\", \"ATL\", \"ORD\", \"FLL\", \"IAD\",…\n",
      "$ air_time       \u001b[3m\u001b[90m<dbl>\u001b[39m\u001b[23m 227, 227, 160, 183, 116, 150, 158, 53, 140, 138, 149, 1…\n",
      "$ distance       \u001b[3m\u001b[90m<dbl>\u001b[39m\u001b[23m 1400, 1416, 1089, 1576, 762, 719, 1065, 229, 944, 733, …\n",
      "$ hour           \u001b[3m\u001b[90m<dbl>\u001b[39m\u001b[23m 5, 5, 5, 5, 6, 5, 6, 6, 6, 6, 6, 6, 6, 6, 6, 5, 6, 6, 6…\n",
      "$ minute         \u001b[3m\u001b[90m<dbl>\u001b[39m\u001b[23m 15, 29, 40, 45, 0, 58, 0, 0, 0, 0, 0, 0, 0, 0, 0, 59, 0…\n",
      "$ time_hour      \u001b[3m\u001b[90m<dttm>\u001b[39m\u001b[23m 2013-01-01 10:00:00, 2013-01-01 10:00:00, 2013-01-01 1…\n",
      "\n",
      "Rows: 16\n",
      "Columns: 2\n",
      "$ carrier \u001b[3m\u001b[90m<chr>\u001b[39m\u001b[23m \"9E\", \"AA\", \"AS\", \"B6\", \"DL\", \"EV\", \"F9\", \"FL\", \"HA\", \"MQ\", \"O…\n",
      "$ name    \u001b[3m\u001b[90m<chr>\u001b[39m\u001b[23m \"Endeavor Air Inc.\", \"American Airlines Inc.\", \"Alaska Airline…\n",
      "\n",
      "Rows: 1,458\n",
      "Columns: 8\n",
      "$ faa   \u001b[3m\u001b[90m<chr>\u001b[39m\u001b[23m \"04G\", \"06A\", \"06C\", \"06N\", \"09J\", \"0A9\", \"0G6\", \"0G7\", \"0P2\", \"…\n",
      "$ name  \u001b[3m\u001b[90m<chr>\u001b[39m\u001b[23m \"Lansdowne Airport\", \"Moton Field Municipal Airport\", \"Schaumbur…\n",
      "$ lat   \u001b[3m\u001b[90m<dbl>\u001b[39m\u001b[23m 41.13047, 32.46057, 41.98934, 41.43191, 31.07447, 36.37122, 41.4…\n",
      "$ lon   \u001b[3m\u001b[90m<dbl>\u001b[39m\u001b[23m -80.61958, -85.68003, -88.10124, -74.39156, -81.42778, -82.17342…\n",
      "$ alt   \u001b[3m\u001b[90m<dbl>\u001b[39m\u001b[23m 1044, 264, 801, 523, 11, 1593, 730, 492, 1000, 108, 409, 875, 10…\n",
      "$ tz    \u001b[3m\u001b[90m<dbl>\u001b[39m\u001b[23m -5, -6, -6, -5, -5, -5, -5, -5, -5, -8, -5, -6, -5, -5, -5, -5, …\n",
      "$ dst   \u001b[3m\u001b[90m<chr>\u001b[39m\u001b[23m \"A\", \"A\", \"A\", \"A\", \"A\", \"A\", \"A\", \"A\", \"U\", \"A\", \"A\", \"U\", \"A\",…\n",
      "$ tzone \u001b[3m\u001b[90m<chr>\u001b[39m\u001b[23m \"America\/New_York\", \"America\/Chicago\", \"America\/Chicago\", \"Ameri…\n",
      "\n",
      "Rows: 3,322\n",
      "Columns: 9\n",
      "$ tailnum      \u001b[3m\u001b[90m<chr>\u001b[39m\u001b[23m \"N10156\", \"N102UW\", \"N103US\", \"N104UW\", \"N10575\", \"N105UW…\n",
      "$ year         \u001b[3m\u001b[90m<int>\u001b[39m\u001b[23m 2004, 1998, 1999, 1999, 2002, 1999, 1999, 1999, 1999, 199…\n",
      "$ type         \u001b[3m\u001b[90m<chr>\u001b[39m\u001b[23m \"Fixed wing multi engine\", \"Fixed wing multi engine\", \"Fi…\n",
      "$ manufacturer \u001b[3m\u001b[90m<chr>\u001b[39m\u001b[23m \"EMBRAER\", \"AIRBUS INDUSTRIE\", \"AIRBUS INDUSTRIE\", \"AIRBU…\n",
      "$ model        \u001b[3m\u001b[90m<chr>\u001b[39m\u001b[23m \"EMB-145XR\", \"A320-214\", \"A320-214\", \"A320-214\", \"EMB-145…\n",
      "$ engines      \u001b[3m\u001b[90m<int>\u001b[39m\u001b[23m 2, 2, 2, 2, 2, 2, 2, 2, 2, 2, 2, 2, 2, 2, 2, 2, 2, 2, 2, …\n",
      "$ seats        \u001b[3m\u001b[90m<int>\u001b[39m\u001b[23m 55, 182, 182, 182, 55, 182, 182, 182, 182, 182, 55, 55, 5…\n",
      "$ speed        \u001b[3m\u001b[90m<int>\u001b[39m\u001b[23m NA, NA, NA, NA, NA, NA, NA, NA, NA, NA, NA, NA, NA, NA, N…\n",
      "$ engine       \u001b[3m\u001b[90m<chr>\u001b[39m\u001b[23m \"Turbo-fan\", \"Turbo-fan\", \"Turbo-fan\", \"Turbo-fan\", \"Turb…\n",
      "\n",
      "Rows: 26,115\n",
      "Columns: 15\n",
      "$ origin     \u001b[3m\u001b[90m<chr>\u001b[39m\u001b[23m \"EWR\", \"EWR\", \"EWR\", \"EWR\", \"EWR\", \"EWR\", \"EWR\", \"EWR\", \"EW…\n",
      "$ year       \u001b[3m\u001b[90m<int>\u001b[39m\u001b[23m 2013, 2013, 2013, 2013, 2013, 2013, 2013, 2013, 2013, 2013,…\n",
      "$ month      \u001b[3m\u001b[90m<int>\u001b[39m\u001b[23m 1, 1, 1, 1, 1, 1, 1, 1, 1, 1, 1, 1, 1, 1, 1, 1, 1, 1, 1, 1,…\n",
      "$ day        \u001b[3m\u001b[90m<int>\u001b[39m\u001b[23m 1, 1, 1, 1, 1, 1, 1, 1, 1, 1, 1, 1, 1, 1, 1, 1, 1, 1, 1, 1,…\n",
      "$ hour       \u001b[3m\u001b[90m<int>\u001b[39m\u001b[23m 1, 2, 3, 4, 5, 6, 7, 8, 9, 10, 11, 13, 14, 15, 16, 17, 18, …\n",
      "$ temp       \u001b[3m\u001b[90m<dbl>\u001b[39m\u001b[23m 39.02, 39.02, 39.02, 39.92, 39.02, 37.94, 39.02, 39.92, 39.…\n",
      "$ dewp       \u001b[3m\u001b[90m<dbl>\u001b[39m\u001b[23m 26.06, 26.96, 28.04, 28.04, 28.04, 28.04, 28.04, 28.04, 28.…\n",
      "$ humid      \u001b[3m\u001b[90m<dbl>\u001b[39m\u001b[23m 59.37, 61.63, 64.43, 62.21, 64.43, 67.21, 64.43, 62.21, 62.…\n",
      "$ wind_dir   \u001b[3m\u001b[90m<dbl>\u001b[39m\u001b[23m 270, 250, 240, 250, 260, 240, 240, 250, 260, 260, 260, 330,…\n",
      "$ wind_speed \u001b[3m\u001b[90m<dbl>\u001b[39m\u001b[23m 10.35702, 8.05546, 11.50780, 12.65858, 12.65858, 11.50780, …\n",
      "$ wind_gust  \u001b[3m\u001b[90m<dbl>\u001b[39m\u001b[23m NA, NA, NA, NA, NA, NA, NA, NA, NA, NA, NA, NA, NA, NA, 20.…\n",
      "$ precip     \u001b[3m\u001b[90m<dbl>\u001b[39m\u001b[23m 0, 0, 0, 0, 0, 0, 0, 0, 0, 0, 0, 0, 0, 0, 0, 0, 0, 0, 0, 0,…\n",
      "$ pressure   \u001b[3m\u001b[90m<dbl>\u001b[39m\u001b[23m 1012.0, 1012.3, 1012.5, 1012.2, 1011.9, 1012.4, 1012.2, 101…\n",
      "$ visib      \u001b[3m\u001b[90m<dbl>\u001b[39m\u001b[23m 10, 10, 10, 10, 10, 10, 10, 10, 10, 10, 10, 10, 10, 10, 10,…\n",
      "$ time_hour  \u001b[3m\u001b[90m<dttm>\u001b[39m\u001b[23m 2013-01-01 06:00:00, 2013-01-01 07:00:00, 2013-01-01 08:00…\n"
     ],
     "output_type":"stream"
    }
   ],
   "metadata":{
    "datalore":{
     "node_id":"cuQmyqLsT3Cjsvje532TF2",
     "type":"CODE",
     "hide_input_from_viewers":false,
     "hide_output_from_viewers":false,
     "report_properties":{
      
     }
    }
   }
  },
  {
   "cell_type":"markdown",
   "source":[
    "# Q1: Which airlines had the least departure delay at the beginning of 2013?"
   ],
   "attachments":{
    
   },
   "metadata":{
    "datalore":{
     "node_id":"ksgmlVTjSQzXvWgnvz2fZu",
     "type":"MD",
     "hide_input_from_viewers":false,
     "hide_output_from_viewers":false,
     "report_properties":{
      
     }
    }
   }
  },
  {
   "cell_type":"code",
   "source":[
    "flights %>%\n",
    "    filter(year == 2013, month == 1, day == 1) %>%\n",
    "    select(carrier, dep_delay) %>%\n",
    "    arrange(dep_delay) %>%\n",
    "    head(5) %>%\n",
    "    inner_join(airlines, by = \"carrier\")"
   ],
   "execution_count":8,
   "outputs":[
    {
     "data":{
      "text\/html":[
       "<table class=\"dataframe\">\n",
       "<caption>A tibble: 5 × 3<\/caption>\n",
       "<thead>\n",
       "\t<tr><th scope=col>carrier<\/th><th scope=col>dep_delay<\/th><th scope=col>name<\/th><\/tr>\n",
       "\t<tr><th scope=col>&lt;chr&gt;<\/th><th scope=col>&lt;dbl&gt;<\/th><th scope=col>&lt;chr&gt;<\/th><\/tr>\n",
       "<\/thead>\n",
       "<tbody>\n",
       "\t<tr><td>MQ<\/td><td>-15<\/td><td>Envoy Air               <\/td><\/tr>\n",
       "\t<tr><td>AA<\/td><td>-15<\/td><td>American Airlines Inc.  <\/td><\/tr>\n",
       "\t<tr><td>F9<\/td><td>-14<\/td><td>Frontier Airlines Inc.  <\/td><\/tr>\n",
       "\t<tr><td>EV<\/td><td>-13<\/td><td>ExpressJet Airlines Inc.<\/td><\/tr>\n",
       "\t<tr><td>B6<\/td><td>-12<\/td><td>JetBlue Airways         <\/td><\/tr>\n",
       "<\/tbody>\n",
       "<\/table>\n"
      ]
     },
     "metadata":{
      
     },
     "output_type":"display_data"
    }
   ],
   "metadata":{
    "datalore":{
     "node_id":"wgffZzjhe6yApd9f9KIwA3",
     "type":"CODE",
     "hide_input_from_viewers":false,
     "hide_output_from_viewers":false,
     "report_properties":{
      
     }
    }
   }
  },
  {
   "cell_type":"markdown",
   "source":[
    "# Q2: Which destinations did people travel to the most during the summer (July, August, and September) of 2013?"
   ],
   "attachments":{
    
   },
   "metadata":{
    "datalore":{
     "node_id":"McKblDcP7nQ47ro7md4c8v",
     "type":"MD",
     "hide_input_from_viewers":false,
     "hide_output_from_viewers":false,
     "report_properties":{
      
     }
    }
   }
  },
  {
   "cell_type":"code",
   "source":[
    "flights %>%\n",
    "    filter(!is.na(dep_time), year == 2013, month %in% c(7,8,9)) %>%\n",
    "    select(year, month, dest) %>%\n",
    "    group_by(year, month, dest) %>%\n",
    "    summarise(n_filghts = n()) %>%\n",
    "    arrange(desc(n_filghts)) %>%\n",
    "    head(5) %>%\n",
    "    inner_join(airports %>% \n",
    "                    select(faa, name), \n",
    "               by = c(\"dest\" = \"faa\"))"
   ],
   "execution_count":9,
   "outputs":[
    {
     "name":"stderr",
     "text":[
      "`summarise()` has grouped output by 'year', 'month'. You can override using the `.groups` argument.\n",
      "\n"
     ],
     "output_type":"stream"
    },
    {
     "data":{
      "text\/html":[
       "<table class=\"dataframe\">\n",
       "<caption>A grouped_df: 5 × 5<\/caption>\n",
       "<thead>\n",
       "\t<tr><th scope=col>year<\/th><th scope=col>month<\/th><th scope=col>dest<\/th><th scope=col>n_filghts<\/th><th scope=col>name<\/th><\/tr>\n",
       "\t<tr><th scope=col>&lt;int&gt;<\/th><th scope=col>&lt;int&gt;<\/th><th scope=col>&lt;chr&gt;<\/th><th scope=col>&lt;int&gt;<\/th><th scope=col>&lt;chr&gt;<\/th><\/tr>\n",
       "<\/thead>\n",
       "<tbody>\n",
       "\t<tr><td>2013<\/td><td>8<\/td><td>ORD<\/td><td>1571<\/td><td>Chicago Ohare Intl<\/td><\/tr>\n",
       "\t<tr><td>2013<\/td><td>9<\/td><td>ORD<\/td><td>1517<\/td><td>Chicago Ohare Intl<\/td><\/tr>\n",
       "\t<tr><td>2013<\/td><td>8<\/td><td>LAX<\/td><td>1502<\/td><td>Los Angeles Intl  <\/td><\/tr>\n",
       "\t<tr><td>2013<\/td><td>7<\/td><td>ORD<\/td><td>1499<\/td><td>Chicago Ohare Intl<\/td><\/tr>\n",
       "\t<tr><td>2013<\/td><td>7<\/td><td>LAX<\/td><td>1497<\/td><td>Los Angeles Intl  <\/td><\/tr>\n",
       "<\/tbody>\n",
       "<\/table>\n"
      ]
     },
     "metadata":{
      
     },
     "output_type":"display_data"
    }
   ],
   "metadata":{
    "datalore":{
     "node_id":"ZUnSnXelvn0fHRwgqXtG3o",
     "type":"CODE",
     "hide_input_from_viewers":false,
     "hide_output_from_viewers":false,
     "report_properties":{
      
     }
    }
   }
  },
  {
   "cell_type":"markdown",
   "source":[
    "# Q3: Which airlines had the most canceled flights in 2013?"
   ],
   "attachments":{
    
   },
   "metadata":{
    "datalore":{
     "node_id":"kZL3uyL1DN4lzfeZBYV1Rw",
     "type":"MD",
     "hide_input_from_viewers":false,
     "hide_output_from_viewers":false,
     "report_properties":{
      
     }
    }
   }
  },
  {
   "cell_type":"code",
   "source":[
    "na_deptime <- flights %>% \n",
    "  filter(is.na(dep_time)) %>% \n",
    "  group_by(carrier) %>% \n",
    "  summarise(canceled_flights = n())\n",
    "\n",
    "flights %>% \n",
    "  inner_join(airlines, by = \"carrier\") %>% \n",
    "  group_by(carrier, name) %>% \n",
    "  select(carrier, name) %>% \n",
    "  summarise(scheduled_flights = n()) %>%\n",
    "  inner_join(na_deptime, by = \"carrier\") %>% \n",
    "  mutate(canceled_flights_proportion = \n",
    "      round((canceled_flights\/scheduled_flights), 4)) %>% \n",
    "  arrange(desc(canceled_flights_proportion)) %>% \n",
    "  head(5)"
   ],
   "execution_count":10,
   "outputs":[
    {
     "name":"stderr",
     "text":[
      "`summarise()` has grouped output by 'carrier'. You can override using the `.groups` argument.\n",
      "\n"
     ],
     "output_type":"stream"
    },
    {
     "data":{
      "text\/html":[
       "<table class=\"dataframe\">\n",
       "<caption>A grouped_df: 5 × 5<\/caption>\n",
       "<thead>\n",
       "\t<tr><th scope=col>carrier<\/th><th scope=col>name<\/th><th scope=col>scheduled_flights<\/th><th scope=col>canceled_flights<\/th><th scope=col>canceled_flights_proportion<\/th><\/tr>\n",
       "\t<tr><th scope=col>&lt;chr&gt;<\/th><th scope=col>&lt;chr&gt;<\/th><th scope=col>&lt;int&gt;<\/th><th scope=col>&lt;int&gt;<\/th><th scope=col>&lt;dbl&gt;<\/th><\/tr>\n",
       "<\/thead>\n",
       "<tbody>\n",
       "\t<tr><td>OO<\/td><td>SkyWest Airlines Inc.   <\/td><td>   32<\/td><td>   3<\/td><td>0.0938<\/td><\/tr>\n",
       "\t<tr><td>YV<\/td><td>Mesa Airlines Inc.      <\/td><td>  601<\/td><td>  56<\/td><td>0.0932<\/td><\/tr>\n",
       "\t<tr><td>9E<\/td><td>Endeavor Air Inc.       <\/td><td>18460<\/td><td>1044<\/td><td>0.0566<\/td><\/tr>\n",
       "\t<tr><td>EV<\/td><td>ExpressJet Airlines Inc.<\/td><td>54173<\/td><td>2817<\/td><td>0.0520<\/td><\/tr>\n",
       "\t<tr><td>MQ<\/td><td>Envoy Air               <\/td><td>26397<\/td><td>1234<\/td><td>0.0467<\/td><\/tr>\n",
       "<\/tbody>\n",
       "<\/table>\n"
      ]
     },
     "metadata":{
      
     },
     "output_type":"display_data"
    }
   ],
   "metadata":{
    "datalore":{
     "node_id":"VxiSVVx5pXn1gTF8V27SwW",
     "type":"CODE",
     "hide_input_from_viewers":false,
     "hide_output_from_viewers":false,
     "report_properties":{
      
     }
    }
   }
  },
  {
   "cell_type":"markdown",
   "source":[
    "# Q4: How much was the total traveled distance of each airline each month in 2013?"
   ],
   "attachments":{
    
   },
   "metadata":{
    "datalore":{
     "node_id":"hA1RS7wpRXBUHQAs1HqNt5",
     "type":"MD",
     "hide_input_from_viewers":false,
     "hide_output_from_viewers":false,
     "report_properties":{
      
     }
    }
   }
  },
  {
   "cell_type":"code",
   "source":[
    "flights %>%\n",
    "    filter(!is.na(dep_time)) %>%\n",
    "    inner_join(airlines, by = \"carrier\") %>% \n",
    "    group_by(month, carrier, name) %>%\n",
    "    summarise(n_flights = n(), \n",
    "              total_distance_in_miles = round(sum(distance), 2)) %>%\n",
    "    arrange(carrier)"
   ],
   "execution_count":11,
   "outputs":[
    {
     "name":"stderr",
     "text":[
      "`summarise()` has grouped output by 'month', 'carrier'. You can override using the `.groups` argument.\n",
      "\n"
     ],
     "output_type":"stream"
    },
    {
     "data":{
      "text\/html":[
       "<table class=\"dataframe\">\n",
       "<caption>A grouped_df: 185 × 5<\/caption>\n",
       "<thead>\n",
       "\t<tr><th scope=col>month<\/th><th scope=col>carrier<\/th><th scope=col>name<\/th><th scope=col>n_flights<\/th><th scope=col>total_distance_in_miles<\/th><\/tr>\n",
       "\t<tr><th scope=col>&lt;int&gt;<\/th><th scope=col>&lt;chr&gt;<\/th><th scope=col>&lt;chr&gt;<\/th><th scope=col>&lt;int&gt;<\/th><th scope=col>&lt;dbl&gt;<\/th><\/tr>\n",
       "<\/thead>\n",
       "<tbody>\n",
       "\t<tr><td> 1<\/td><td>9E<\/td><td>Endeavor Air Inc.     <\/td><td>1498<\/td><td> 717534<\/td><\/tr>\n",
       "\t<tr><td> 2<\/td><td>9E<\/td><td>Endeavor Air Inc.     <\/td><td>1353<\/td><td> 637366<\/td><\/tr>\n",
       "\t<tr><td> 3<\/td><td>9E<\/td><td>Endeavor Air Inc.     <\/td><td>1514<\/td><td> 723266<\/td><\/tr>\n",
       "\t<tr><td> 4<\/td><td>9E<\/td><td>Endeavor Air Inc.     <\/td><td>1407<\/td><td> 691754<\/td><\/tr>\n",
       "\t<tr><td> 5<\/td><td>9E<\/td><td>Endeavor Air Inc.     <\/td><td>1388<\/td><td> 701809<\/td><\/tr>\n",
       "\t<tr><td> 6<\/td><td>9E<\/td><td>Endeavor Air Inc.     <\/td><td>1276<\/td><td> 677990<\/td><\/tr>\n",
       "\t<tr><td> 7<\/td><td>9E<\/td><td>Endeavor Air Inc.     <\/td><td>1364<\/td><td> 736838<\/td><\/tr>\n",
       "\t<tr><td> 8<\/td><td>9E<\/td><td>Endeavor Air Inc.     <\/td><td>1378<\/td><td> 748201<\/td><\/tr>\n",
       "\t<tr><td> 9<\/td><td>9E<\/td><td>Endeavor Air Inc.     <\/td><td>1477<\/td><td> 858655<\/td><\/tr>\n",
       "\t<tr><td>10<\/td><td>9E<\/td><td>Endeavor Air Inc.     <\/td><td>1642<\/td><td> 976350<\/td><\/tr>\n",
       "\t<tr><td>11<\/td><td>9E<\/td><td>Endeavor Air Inc.     <\/td><td>1575<\/td><td> 924766<\/td><\/tr>\n",
       "\t<tr><td>12<\/td><td>9E<\/td><td>Endeavor Air Inc.     <\/td><td>1544<\/td><td> 862113<\/td><\/tr>\n",
       "\t<tr><td> 1<\/td><td>AA<\/td><td>American Airlines Inc.<\/td><td>2735<\/td><td>3700495<\/td><\/tr>\n",
       "\t<tr><td> 2<\/td><td>AA<\/td><td>American Airlines Inc.<\/td><td>2405<\/td><td>3250603<\/td><\/tr>\n",
       "\t<tr><td> 3<\/td><td>AA<\/td><td>American Airlines Inc.<\/td><td>2746<\/td><td>3705882<\/td><\/tr>\n",
       "\t<tr><td> 4<\/td><td>AA<\/td><td>American Airlines Inc.<\/td><td>2663<\/td><td>3579654<\/td><\/tr>\n",
       "\t<tr><td> 5<\/td><td>AA<\/td><td>American Airlines Inc.<\/td><td>2770<\/td><td>3714520<\/td><\/tr>\n",
       "\t<tr><td> 6<\/td><td>AA<\/td><td>American Airlines Inc.<\/td><td>2700<\/td><td>3610326<\/td><\/tr>\n",
       "\t<tr><td> 7<\/td><td>AA<\/td><td>American Airlines Inc.<\/td><td>2797<\/td><td>3715661<\/td><\/tr>\n",
       "\t<tr><td> 8<\/td><td>AA<\/td><td>American Airlines Inc.<\/td><td>2830<\/td><td>3754622<\/td><\/tr>\n",
       "\t<tr><td> 9<\/td><td>AA<\/td><td>American Airlines Inc.<\/td><td>2584<\/td><td>3471602<\/td><\/tr>\n",
       "\t<tr><td>10<\/td><td>AA<\/td><td>American Airlines Inc.<\/td><td>2706<\/td><td>3619786<\/td><\/tr>\n",
       "\t<tr><td>11<\/td><td>AA<\/td><td>American Airlines Inc.<\/td><td>2558<\/td><td>3443842<\/td><\/tr>\n",
       "\t<tr><td>12<\/td><td>AA<\/td><td>American Airlines Inc.<\/td><td>2599<\/td><td>3537725<\/td><\/tr>\n",
       "\t<tr><td> 1<\/td><td>AS<\/td><td>Alaska Airlines Inc.  <\/td><td>  62<\/td><td> 148924<\/td><\/tr>\n",
       "\t<tr><td> 2<\/td><td>AS<\/td><td>Alaska Airlines Inc.  <\/td><td>  54<\/td><td> 129708<\/td><\/tr>\n",
       "\t<tr><td> 3<\/td><td>AS<\/td><td>Alaska Airlines Inc.  <\/td><td>  62<\/td><td> 148924<\/td><\/tr>\n",
       "\t<tr><td> 4<\/td><td>AS<\/td><td>Alaska Airlines Inc.  <\/td><td>  60<\/td><td> 144120<\/td><\/tr>\n",
       "\t<tr><td> 5<\/td><td>AS<\/td><td>Alaska Airlines Inc.  <\/td><td>  62<\/td><td> 148924<\/td><\/tr>\n",
       "\t<tr><td> 6<\/td><td>AS<\/td><td>Alaska Airlines Inc.  <\/td><td>  60<\/td><td> 144120<\/td><\/tr>\n",
       "\t<tr><td>⋮<\/td><td>⋮<\/td><td>⋮<\/td><td>⋮<\/td><td>⋮<\/td><\/tr>\n",
       "\t<tr><td> 7<\/td><td>VX<\/td><td>Virgin America        <\/td><td> 486<\/td><td>1215475<\/td><\/tr>\n",
       "\t<tr><td> 8<\/td><td>VX<\/td><td>Virgin America        <\/td><td> 489<\/td><td>1223059<\/td><\/tr>\n",
       "\t<tr><td> 9<\/td><td>VX<\/td><td>Virgin America        <\/td><td> 453<\/td><td>1132851<\/td><\/tr>\n",
       "\t<tr><td>10<\/td><td>VX<\/td><td>Virgin America        <\/td><td> 471<\/td><td>1177783<\/td><\/tr>\n",
       "\t<tr><td>11<\/td><td>VX<\/td><td>Virgin America        <\/td><td> 443<\/td><td>1108258<\/td><\/tr>\n",
       "\t<tr><td>12<\/td><td>VX<\/td><td>Virgin America        <\/td><td> 468<\/td><td>1169900<\/td><\/tr>\n",
       "\t<tr><td> 1<\/td><td>WN<\/td><td>Southwest Airlines Co.<\/td><td> 985<\/td><td> 928940<\/td><\/tr>\n",
       "\t<tr><td> 2<\/td><td>WN<\/td><td>Southwest Airlines Co.<\/td><td> 861<\/td><td> 817643<\/td><\/tr>\n",
       "\t<tr><td> 3<\/td><td>WN<\/td><td>Southwest Airlines Co.<\/td><td> 955<\/td><td> 940306<\/td><\/tr>\n",
       "\t<tr><td> 4<\/td><td>WN<\/td><td>Southwest Airlines Co.<\/td><td> 966<\/td><td> 955058<\/td><\/tr>\n",
       "\t<tr><td> 5<\/td><td>WN<\/td><td>Southwest Airlines Co.<\/td><td> 988<\/td><td> 979018<\/td><\/tr>\n",
       "\t<tr><td> 6<\/td><td>WN<\/td><td>Southwest Airlines Co.<\/td><td>1018<\/td><td>1033205<\/td><\/tr>\n",
       "\t<tr><td> 7<\/td><td>WN<\/td><td>Southwest Airlines Co.<\/td><td>1065<\/td><td>1081410<\/td><\/tr>\n",
       "\t<tr><td> 8<\/td><td>WN<\/td><td>Southwest Airlines Co.<\/td><td>1047<\/td><td>1065845<\/td><\/tr>\n",
       "\t<tr><td> 9<\/td><td>WN<\/td><td>Southwest Airlines Co.<\/td><td>1007<\/td><td>1024462<\/td><\/tr>\n",
       "\t<tr><td>10<\/td><td>WN<\/td><td>Southwest Airlines Co.<\/td><td>1089<\/td><td>1103138<\/td><\/tr>\n",
       "\t<tr><td>11<\/td><td>WN<\/td><td>Southwest Airlines Co.<\/td><td>1028<\/td><td>1035873<\/td><\/tr>\n",
       "\t<tr><td>12<\/td><td>WN<\/td><td>Southwest Airlines Co.<\/td><td>1074<\/td><td>1085029<\/td><\/tr>\n",
       "\t<tr><td> 1<\/td><td>YV<\/td><td>Mesa Airlines Inc.    <\/td><td>  39<\/td><td>   8931<\/td><\/tr>\n",
       "\t<tr><td> 2<\/td><td>YV<\/td><td>Mesa Airlines Inc.    <\/td><td>  46<\/td><td>  10534<\/td><\/tr>\n",
       "\t<tr><td> 3<\/td><td>YV<\/td><td>Mesa Airlines Inc.    <\/td><td>  18<\/td><td>   4122<\/td><\/tr>\n",
       "\t<tr><td> 4<\/td><td>YV<\/td><td>Mesa Airlines Inc.    <\/td><td>  36<\/td><td>  14859<\/td><\/tr>\n",
       "\t<tr><td> 5<\/td><td>YV<\/td><td>Mesa Airlines Inc.    <\/td><td>  44<\/td><td>  17951<\/td><\/tr>\n",
       "\t<tr><td> 6<\/td><td>YV<\/td><td>Mesa Airlines Inc.    <\/td><td>  39<\/td><td>  15231<\/td><\/tr>\n",
       "\t<tr><td> 7<\/td><td>YV<\/td><td>Mesa Airlines Inc.    <\/td><td>  69<\/td><td>  29976<\/td><\/tr>\n",
       "\t<tr><td> 8<\/td><td>YV<\/td><td>Mesa Airlines Inc.    <\/td><td>  60<\/td><td>  26340<\/td><\/tr>\n",
       "\t<tr><td> 9<\/td><td>YV<\/td><td>Mesa Airlines Inc.    <\/td><td>  42<\/td><td>  20013<\/td><\/tr>\n",
       "\t<tr><td>10<\/td><td>YV<\/td><td>Mesa Airlines Inc.    <\/td><td>  60<\/td><td>  23505<\/td><\/tr>\n",
       "\t<tr><td>11<\/td><td>YV<\/td><td>Mesa Airlines Inc.    <\/td><td>  48<\/td><td>  16760<\/td><\/tr>\n",
       "\t<tr><td>12<\/td><td>YV<\/td><td>Mesa Airlines Inc.    <\/td><td>  44<\/td><td>  16789<\/td><\/tr>\n",
       "<\/tbody>\n",
       "<\/table>\n"
      ]
     },
     "metadata":{
      
     },
     "output_type":"display_data"
    }
   ],
   "metadata":{
    "datalore":{
     "node_id":"iAZQ9pPA4AjdV64JU0eT2i",
     "type":"CODE",
     "hide_input_from_viewers":false,
     "hide_output_from_viewers":false,
     "report_properties":{
      
     }
    }
   }
  },
  {
   "cell_type":"markdown",
   "source":[
    "# Q5: What are the fastest flights compared to the distance traveled?"
   ],
   "attachments":{
    
   },
   "metadata":{
    "datalore":{
     "node_id":"c2nISCnehFwnHOWyvmibWR",
     "type":"MD",
     "hide_input_from_viewers":false,
     "hide_output_from_viewers":false,
     "report_properties":{
      
     }
    }
   }
  },
  {
   "cell_type":"code",
   "source":[
    "flights %>% \n",
    "  select(carrier, air_time, distance) %>% \n",
    "  mutate(distance_interval = case_when(\n",
    "    distance <= 500 ~ \"less than 500 miles\",\n",
    "    distance <= 1000 ~ \"500 - 1000 miles\",\n",
    "    distance <= 1500 ~ \"1000 - 1500 miles\",\n",
    "    TRUE ~ \"more than 1500 miles\"\n",
    "  )) %>% \n",
    "  group_by(carrier, distance_interval) %>% \n",
    "  summarise(min_air_time = min(air_time, na.rm = T)) %>% \n",
    "  arrange(carrier, min_air_time)"
   ],
   "execution_count":12,
   "outputs":[
    {
     "name":"stderr",
     "text":[
      "`summarise()` has grouped output by 'carrier'. You can override using the `.groups` argument.\n",
      "\n"
     ],
     "output_type":"stream"
    },
    {
     "data":{
      "text\/html":[
       "<table class=\"dataframe\">\n",
       "<caption>A grouped_df: 44 × 3<\/caption>\n",
       "<thead>\n",
       "\t<tr><th scope=col>carrier<\/th><th scope=col>distance_interval<\/th><th scope=col>min_air_time<\/th><\/tr>\n",
       "\t<tr><th scope=col>&lt;chr&gt;<\/th><th scope=col>&lt;chr&gt;<\/th><th scope=col>&lt;dbl&gt;<\/th><\/tr>\n",
       "<\/thead>\n",
       "<tbody>\n",
       "\t<tr><td>9E<\/td><td>less than 500 miles <\/td><td> 21<\/td><\/tr>\n",
       "\t<tr><td>9E<\/td><td>500 - 1000 miles    <\/td><td> 72<\/td><\/tr>\n",
       "\t<tr><td>9E<\/td><td>1000 - 1500 miles   <\/td><td>127<\/td><\/tr>\n",
       "\t<tr><td>9E<\/td><td>more than 1500 miles<\/td><td>209<\/td><\/tr>\n",
       "\t<tr><td>AA<\/td><td>less than 500 miles <\/td><td> 29<\/td><\/tr>\n",
       "\t<tr><td>AA<\/td><td>500 - 1000 miles    <\/td><td> 94<\/td><\/tr>\n",
       "\t<tr><td>AA<\/td><td>1000 - 1500 miles   <\/td><td>125<\/td><\/tr>\n",
       "\t<tr><td>AA<\/td><td>more than 1500 miles<\/td><td>173<\/td><\/tr>\n",
       "\t<tr><td>AS<\/td><td>more than 1500 miles<\/td><td>277<\/td><\/tr>\n",
       "\t<tr><td>B6<\/td><td>less than 500 miles <\/td><td> 29<\/td><\/tr>\n",
       "\t<tr><td>B6<\/td><td>500 - 1000 miles    <\/td><td> 71<\/td><\/tr>\n",
       "\t<tr><td>B6<\/td><td>1000 - 1500 miles   <\/td><td>118<\/td><\/tr>\n",
       "\t<tr><td>B6<\/td><td>more than 1500 miles<\/td><td>172<\/td><\/tr>\n",
       "\t<tr><td>DL<\/td><td>less than 500 miles <\/td><td> 26<\/td><\/tr>\n",
       "\t<tr><td>DL<\/td><td>500 - 1000 miles    <\/td><td> 65<\/td><\/tr>\n",
       "\t<tr><td>DL<\/td><td>1000 - 1500 miles   <\/td><td>105<\/td><\/tr>\n",
       "\t<tr><td>DL<\/td><td>more than 1500 miles<\/td><td>170<\/td><\/tr>\n",
       "\t<tr><td>EV<\/td><td>less than 500 miles <\/td><td> 20<\/td><\/tr>\n",
       "\t<tr><td>EV<\/td><td>500 - 1000 miles    <\/td><td> 55<\/td><\/tr>\n",
       "\t<tr><td>EV<\/td><td>1000 - 1500 miles   <\/td><td> 93<\/td><\/tr>\n",
       "\t<tr><td>F9<\/td><td>more than 1500 miles<\/td><td>195<\/td><\/tr>\n",
       "\t<tr><td>FL<\/td><td>less than 500 miles <\/td><td> 53<\/td><\/tr>\n",
       "\t<tr><td>FL<\/td><td>500 - 1000 miles    <\/td><td> 86<\/td><\/tr>\n",
       "\t<tr><td>HA<\/td><td>more than 1500 miles<\/td><td>580<\/td><\/tr>\n",
       "\t<tr><td>MQ<\/td><td>less than 500 miles <\/td><td> 33<\/td><\/tr>\n",
       "\t<tr><td>MQ<\/td><td>500 - 1000 miles    <\/td><td> 68<\/td><\/tr>\n",
       "\t<tr><td>MQ<\/td><td>1000 - 1500 miles   <\/td><td>119<\/td><\/tr>\n",
       "\t<tr><td>OO<\/td><td>less than 500 miles <\/td><td> 50<\/td><\/tr>\n",
       "\t<tr><td>OO<\/td><td>500 - 1000 miles    <\/td><td>132<\/td><\/tr>\n",
       "\t<tr><td>OO<\/td><td>1000 - 1500 miles   <\/td><td>152<\/td><\/tr>\n",
       "\t<tr><td>UA<\/td><td>less than 500 miles <\/td><td> 23<\/td><\/tr>\n",
       "\t<tr><td>UA<\/td><td>500 - 1000 miles    <\/td><td> 87<\/td><\/tr>\n",
       "\t<tr><td>UA<\/td><td>1000 - 1500 miles   <\/td><td>119<\/td><\/tr>\n",
       "\t<tr><td>UA<\/td><td>more than 1500 miles<\/td><td>173<\/td><\/tr>\n",
       "\t<tr><td>US<\/td><td>less than 500 miles <\/td><td> 21<\/td><\/tr>\n",
       "\t<tr><td>US<\/td><td>500 - 1000 miles    <\/td><td> 67<\/td><\/tr>\n",
       "\t<tr><td>US<\/td><td>more than 1500 miles<\/td><td>243<\/td><\/tr>\n",
       "\t<tr><td>VX<\/td><td>more than 1500 miles<\/td><td>264<\/td><\/tr>\n",
       "\t<tr><td>WN<\/td><td>less than 500 miles <\/td><td> 31<\/td><\/tr>\n",
       "\t<tr><td>WN<\/td><td>500 - 1000 miles    <\/td><td> 89<\/td><\/tr>\n",
       "\t<tr><td>WN<\/td><td>1000 - 1500 miles   <\/td><td>142<\/td><\/tr>\n",
       "\t<tr><td>WN<\/td><td>more than 1500 miles<\/td><td>180<\/td><\/tr>\n",
       "\t<tr><td>YV<\/td><td>less than 500 miles <\/td><td> 32<\/td><\/tr>\n",
       "\t<tr><td>YV<\/td><td>500 - 1000 miles    <\/td><td> 69<\/td><\/tr>\n",
       "<\/tbody>\n",
       "<\/table>\n"
      ]
     },
     "metadata":{
      
     },
     "output_type":"display_data"
    }
   ],
   "metadata":{
    "datalore":{
     "node_id":"5sOkpfCk1rKk1yksPO9yG1",
     "type":"CODE",
     "hide_input_from_viewers":false,
     "hide_output_from_viewers":false,
     "report_properties":{
      
     }
    }
   }
  },
  {
   "cell_type":"markdown",
   "source":[
    "# RPostgreSQL"
   ],
   "attachments":{
    
   },
   "metadata":{
    "datalore":{
     "node_id":"RPostgreSQL",
     "type":"MD",
     "hide_input_from_viewers":false,
     "hide_output_from_viewers":false,
     "sheet_delimiter":true
    }
   }
  },
  {
   "cell_type":"code",
   "source":[
    "# PostgreSQL Database"
   ],
   "execution_count":13,
   "outputs":[
    
   ],
   "metadata":{
    "datalore":{
     "node_id":"RRp7G7rhznBpgofiyK75iU",
     "type":"CODE",
     "hide_input_from_viewers":true,
     "hide_output_from_viewers":true
    }
   }
  },
  {
   "cell_type":"code",
   "source":[
    "# 3 dataframes\n",
    "myFavSeries <- data.frame(\n",
    "  serie_id = 1:5,\n",
    "  serie = c(\"Dark\", \"Arcane\", \"Game of Thrones\", \"Twenty Five Twenty One\", \"Peaky Blinders\"),\n",
    "  score = c(10, 9, 7, 8, 8)\n",
    ")\n",
    "\n",
    "genres <- data.frame(\n",
    "  genre_id = 1:5,\n",
    "  genre = c(\"Drama\", \"Action\", \"Mystery\", \"Comedy\", \"Crime\")\n",
    ")\n",
    "\n",
    "bridge <- data.frame(\n",
    "  serie_id = c(1, 1, 2, 3, 3, 4, 4, 5, 5, 5),\n",
    "  genre_id = c(1, 3, 2, 1, 2, 1, 4, 1, 2, 5)\n",
    ")"
   ],
   "execution_count":14,
   "outputs":[
    
   ],
   "metadata":{
    "datalore":{
     "node_id":"wfGNTrhmYmQLq1VLui16fi",
     "type":"CODE",
     "hide_input_from_viewers":true,
     "hide_output_from_viewers":true
    }
   }
  },
  {
   "cell_type":"code",
   "source":[
    "# install a package\n",
    "install.packages(\"RPostgreSQL\")\n",
    "library(RPostgreSQL)"
   ],
   "execution_count":15,
   "outputs":[
    {
     "name":"stderr",
     "text":[
      "Warning message in install.packages(\"RPostgreSQL\"):\n",
      "“installation of package ‘RPostgreSQL’ had non-zero exit status”\n",
      "Updating HTML index of packages in '.Library'\n",
      "\n",
      "Making 'packages.html' ...\n",
      " done\n",
      "\n"
     ],
     "output_type":"stream"
    },
    {
     "ename":"ERROR",
     "evalue":"ERROR: Error in library(RPostgreSQL): there is no package called ‘RPostgreSQL’\n",
     "traceback":[
      "\u001b[0;31m---------------------------------------------------------------------------",
      "Traceback (most recent call last)",
      "ERROR: Error in library(RPostgreSQL): there is no package called ‘RPostgreSQL’\n"
     ],
     "output_type":"error"
    }
   ],
   "metadata":{
    "datalore":{
     "node_id":"YBCy6nwgUPLsaJPgpb7T1P",
     "type":"CODE",
     "hide_input_from_viewers":true,
     "hide_output_from_viewers":true
    }
   }
  }
 ],
 "metadata":{
  "kernelspec":{
   "display_name":"R",
   "language":"r",
   "name":"ir"
  },
  "datalore":{
   "version":1,
   "computation_mode":"JUPYTER",
   "package_manager":"conda",
   "base_environment":"minimal",
   "packages":[
    
   ]
  }
 },
 "nbformat":4,
 "nbformat_minor":4
}