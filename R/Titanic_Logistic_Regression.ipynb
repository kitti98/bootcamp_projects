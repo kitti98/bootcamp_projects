{
 "cells": [
  {
   "attachments": {},
   "cell_type": "markdown",
   "metadata": {
    "datalore": {
     "hide_input_from_viewers": false,
     "hide_output_from_viewers": false,
     "node_id": "7t3kamXtAsJY5F2EMcCWpQ",
     "report_properties": {},
     "type": "MD"
    }
   },
   "source": [
    "# Titanic Survival Prediction by Logistic Regression"
   ]
  },
  {
   "cell_type": "code",
   "execution_count": 1,
   "metadata": {
    "datalore": {
     "hide_input_from_viewers": false,
     "hide_output_from_viewers": false,
     "node_id": "ZxS0U4nE2QAumHuXZSNki8",
     "report_properties": {},
     "type": "CODE"
    },
    "vscode": {
     "languageId": "r"
    }
   },
   "outputs": [],
   "source": [
    "# install packages\n",
    "install.packages(\"titanic\")\n",
    "library(titanic)\n",
    "library(tidyverse)"
   ]
  },
  {
   "cell_type": "code",
   "execution_count": 2,
   "metadata": {
    "datalore": {
     "hide_input_from_viewers": false,
     "hide_output_from_viewers": false,
     "node_id": "tOITOw20LX6mUlgzNUkx9h",
     "report_properties": {},
     "type": "CODE"
    },
    "vscode": {
     "languageId": "r"
    }
   },
   "outputs": [
    {
     "name": "stdout",
     "output_type": "stream",
     "text": [
      "Rows: 891\n",
      "Columns: 12\n",
      "$ PassengerId \u001b[3m\u001b[90m<int>\u001b[39m\u001b[23m 1, 2, 3, 4, 5, 6, 7, 8, 9, 10, 11, 12, 13, 14, 15, 16, 17,…\n",
      "$ Survived    \u001b[3m\u001b[90m<int>\u001b[39m\u001b[23m 0, 1, 1, 1, 0, 0, 0, 0, 1, 1, 1, 1, 0, 0, 0, 1, 0, 1, 0, 1…\n",
      "$ Pclass      \u001b[3m\u001b[90m<int>\u001b[39m\u001b[23m 3, 1, 3, 1, 3, 3, 1, 3, 3, 2, 3, 1, 3, 3, 3, 2, 3, 2, 3, 3…\n",
      "$ Name        \u001b[3m\u001b[90m<chr>\u001b[39m\u001b[23m \"Braund, Mr. Owen Harris\", \"Cumings, Mrs. John Bradley (Fl…\n",
      "$ Sex         \u001b[3m\u001b[90m<chr>\u001b[39m\u001b[23m \"male\", \"female\", \"female\", \"female\", \"male\", \"male\", \"mal…\n",
      "$ Age         \u001b[3m\u001b[90m<dbl>\u001b[39m\u001b[23m 22, 38, 26, 35, 35, NA, 54, 2, 27, 14, 4, 58, 20, 39, 14, …\n",
      "$ SibSp       \u001b[3m\u001b[90m<int>\u001b[39m\u001b[23m 1, 1, 0, 1, 0, 0, 0, 3, 0, 1, 1, 0, 0, 1, 0, 0, 4, 0, 1, 0…\n",
      "$ Parch       \u001b[3m\u001b[90m<int>\u001b[39m\u001b[23m 0, 0, 0, 0, 0, 0, 0, 1, 2, 0, 1, 0, 0, 5, 0, 0, 1, 0, 0, 0…\n",
      "$ Ticket      \u001b[3m\u001b[90m<chr>\u001b[39m\u001b[23m \"A/5 21171\", \"PC 17599\", \"STON/O2. 3101282\", \"113803\", \"37…\n",
      "$ Fare        \u001b[3m\u001b[90m<dbl>\u001b[39m\u001b[23m 7.2500, 71.2833, 7.9250, 53.1000, 8.0500, 8.4583, 51.8625,…\n",
      "$ Cabin       \u001b[3m\u001b[90m<chr>\u001b[39m\u001b[23m \"\", \"C85\", \"\", \"C123\", \"\", \"\", \"E46\", \"\", \"\", \"\", \"G6\", \"C…\n",
      "$ Embarked    \u001b[3m\u001b[90m<chr>\u001b[39m\u001b[23m \"S\", \"C\", \"S\", \"S\", \"S\", \"Q\", \"S\", \"S\", \"S\", \"C\", \"S\", \"S\"…\n",
      "\n",
      "The number of rows after dropping missing values: 714"
     ]
    }
   ],
   "source": [
    "data(\"titanic_train\")\n",
    "\n",
    "## glimpse(data)\n",
    "glimpse(titanic_train)\n",
    "\n",
    "## DROP NA (missing values)\n",
    "titanic_train <- na.omit(titanic_train)\n",
    "cat(\"\\nThe number of rows after dropping missing values:\", nrow(titanic_train))\n",
    "\n",
    "## Convert the data type of the Survived column to factor\n",
    "titanic_train <- titanic_train %>% \n",
    "  mutate(Survived = factor(Survived,\n",
    "                           levels = c(0, 1),\n",
    "                           labels = c(\"Died\", \"Survived\")))"
   ]
  },
  {
   "cell_type": "code",
   "execution_count": 3,
   "metadata": {
    "datalore": {
     "hide_input_from_viewers": false,
     "hide_output_from_viewers": false,
     "node_id": "MMwBoXkIO6XWlh3TkMWDw8",
     "report_properties": {},
     "type": "CODE"
    },
    "vscode": {
     "languageId": "r"
    }
   },
   "outputs": [],
   "source": [
    "## Split data\n",
    "set.seed(70)\n",
    "n <- nrow(titanic_train)                  # check the number of rows\n",
    "id <- sample(1:n, size = n*0.7)           # 70% train 30% test\n",
    "train_data <- titanic_train[id, ]         # 70% train\n",
    "test_data <- titanic_train[-id, ]         # 30% test"
   ]
  },
  {
   "cell_type": "code",
   "execution_count": 6,
   "metadata": {
    "datalore": {
     "hide_input_from_viewers": false,
     "hide_output_from_viewers": false,
     "node_id": "rGxQHmEfbAGYNoqUkefyIP",
     "report_properties": {},
     "type": "CODE"
    },
    "vscode": {
     "languageId": "r"
    }
   },
   "outputs": [
    {
     "data": {
      "text/plain": [
       "\n",
       "Call:\n",
       "glm(formula = Survived ~ Pclass + Sex + Age + SibSp + Parch, \n",
       "    family = \"binomial\", data = train_data)\n",
       "\n",
       "Deviance Residuals: \n",
       "    Min       1Q   Median       3Q      Max  \n",
       "-2.7120  -0.5989  -0.4244   0.6297   2.3493  \n",
       "\n",
       "Coefficients:\n",
       "             Estimate Std. Error z value Pr(>|z|)    \n",
       "(Intercept)  5.025173   0.634333   7.922 2.34e-15 ***\n",
       "Pclass      -1.158931   0.162463  -7.133 9.79e-13 ***\n",
       "Sexmale     -2.619153   0.257547 -10.170  < 2e-16 ***\n",
       "Age         -0.036895   0.009619  -3.836 0.000125 ***\n",
       "SibSp       -0.232488   0.148095  -1.570 0.116449    \n",
       "Parch        0.046009   0.144085   0.319 0.749488    \n",
       "---\n",
       "Signif. codes:  0 ‘***’ 0.001 ‘**’ 0.01 ‘*’ 0.05 ‘.’ 0.1 ‘ ’ 1\n",
       "\n",
       "(Dispersion parameter for binomial family taken to be 1)\n",
       "\n",
       "    Null deviance: 675.80  on 498  degrees of freedom\n",
       "Residual deviance: 450.23  on 493  degrees of freedom\n",
       "AIC: 462.23\n",
       "\n",
       "Number of Fisher Scoring iterations: 4\n"
      ]
     },
     "metadata": {},
     "output_type": "display_data"
    },
    {
     "data": {
      "text/html": [
       "<table class=\"dataframe\">\n",
       "<caption>A data.frame: 10 × 4</caption>\n",
       "<thead>\n",
       "\t<tr><th></th><th scope=col>PassengerId</th><th scope=col>Survived</th><th scope=col>prob_survived</th><th scope=col>pred_survived</th></tr>\n",
       "\t<tr><th></th><th scope=col>&lt;int&gt;</th><th scope=col>&lt;fct&gt;</th><th scope=col>&lt;dbl&gt;</th><th scope=col>&lt;chr&gt;</th></tr>\n",
       "</thead>\n",
       "<tbody>\n",
       "\t<tr><th scope=row>876</th><td>876</td><td>Survived</td><td>0.73006514</td><td>Survived</td></tr>\n",
       "\t<tr><th scope=row>347</th><td>347</td><td>Survived</td><td>0.77408174</td><td>Survived</td></tr>\n",
       "\t<tr><th scope=row>395</th><td>395</td><td>Survived</td><td>0.68024838</td><td>Survived</td></tr>\n",
       "\t<tr><th scope=row>393</th><td>393</td><td>Died    </td><td>0.07117268</td><td>Died    </td></tr>\n",
       "\t<tr><th scope=row>176</th><td>176</td><td>Died    </td><td>0.12770939</td><td>Died    </td></tr>\n",
       "\t<tr><th scope=row>379</th><td>379</td><td>Died    </td><td>0.14079820</td><td>Died    </td></tr>\n",
       "\t<tr><th scope=row>810</th><td>810</td><td>Survived</td><td>0.91805532</td><td>Survived</td></tr>\n",
       "\t<tr><th scope=row>371</th><td>371</td><td>Survived</td><td>0.52303905</td><td>Survived</td></tr>\n",
       "\t<tr><th scope=row>70</th><td> 70</td><td>Died    </td><td>0.07620779</td><td>Died    </td></tr>\n",
       "\t<tr><th scope=row>524</th><td>524</td><td>Survived</td><td>0.90795046</td><td>Survived</td></tr>\n",
       "</tbody>\n",
       "</table>\n"
      ]
     },
     "metadata": {},
     "output_type": "display_data"
    }
   ],
   "source": [
    "## Train Model\n",
    "\n",
    "# Fit model\n",
    "LogModel <- glm(Survived ~ Pclass + Sex + Age + SibSp + Parch, \n",
    "                data = train_data, family = \"binomial\")\n",
    "summary(LogModel)\n",
    "\n",
    "# Predict the probability of survival using Train Data\n",
    "train_data$prob_survived <- predict(LogModel, type = \"response\")\n",
    "train_data$pred_survived <- if_else(train_data$prob_survived >= 0.5, \"Survived\", \"Died\")\n",
    "\n",
    "# Survived vs. Predicted Survived of Train Data\n",
    "train_data %>% \n",
    "    select(PassengerId, Survived, prob_survived, pred_survived) %>%\n",
    "    head(10)"
   ]
  },
  {
   "cell_type": "code",
   "execution_count": null,
   "metadata": {
    "datalore": {
     "hide_input_from_viewers": false,
     "hide_output_from_viewers": false,
     "node_id": "hInk0dbBAW4mRqXT0HAtTF",
     "report_properties": {},
     "type": "CODE"
    },
    "vscode": {
     "languageId": "r"
    }
   },
   "outputs": [
    {
     "data": {
      "text/html": [
       "<table class=\"dataframe\">\n",
       "<caption>A data.frame: 10 × 4</caption>\n",
       "<thead>\n",
       "\t<tr><th></th><th scope=col>PassengerId</th><th scope=col>Survived</th><th scope=col>prob_survived</th><th scope=col>pred_survived</th></tr>\n",
       "\t<tr><th></th><th scope=col>&lt;int&gt;</th><th scope=col>&lt;fct&gt;</th><th scope=col>&lt;dbl&gt;</th><th scope=col>&lt;chr&gt;</th></tr>\n",
       "</thead>\n",
       "<tbody>\n",
       "\t<tr><th scope=row>1</th><td> 1</td><td>Died    </td><td>0.1076518</td><td>Died    </td></tr>\n",
       "\t<tr><th scope=row>4</th><td> 4</td><td>Survived</td><td>0.9123301</td><td>Survived</td></tr>\n",
       "\t<tr><th scope=row>7</th><td> 7</td><td>Died    </td><td>0.3218570</td><td>Died    </td></tr>\n",
       "\t<tr><th scope=row>11</th><td>11</td><td>Survived</td><td>0.7710625</td><td>Survived</td></tr>\n",
       "\t<tr><th scope=row>19</th><td>19</td><td>Died    </td><td>0.5429295</td><td>Survived</td></tr>\n",
       "\t<tr><th scope=row>23</th><td>23</td><td>Survived</td><td>0.7300651</td><td>Survived</td></tr>\n",
       "\t<tr><th scope=row>25</th><td>25</td><td>Died    </td><td>0.6460597</td><td>Survived</td></tr>\n",
       "\t<tr><th scope=row>31</th><td>31</td><td>Died    </td><td>0.4430684</td><td>Died    </td></tr>\n",
       "\t<tr><th scope=row>36</th><td>36</td><td>Died    </td><td>0.3693522</td><td>Died    </td></tr>\n",
       "\t<tr><th scope=row>39</th><td>39</td><td>Died    </td><td>0.6033137</td><td>Survived</td></tr>\n",
       "</tbody>\n",
       "</table>\n"
      ]
     },
     "metadata": {},
     "output_type": "display_data"
    }
   ],
   "source": [
    "## Test Model\n",
    "# Predict the probability of survival using Test Data\n",
    "test_data$prob_survived <- predict(LogModel, newdata = test_data, type = \"response\")\n",
    "test_data$pred_survived <- if_else(test_data$prob_survived >= 0.5, \"Survived\", \"Died\")\n",
    "\n",
    "# Survived vs. Predicted Survived of Test Data\n",
    "test_data %>% \n",
    "    select(PassengerId, Survived, prob_survived, pred_survived) %>%\n",
    "    head(10)"
   ]
  },
  {
   "cell_type": "code",
   "execution_count": 10,
   "metadata": {
    "datalore": {
     "hide_input_from_viewers": false,
     "hide_output_from_viewers": false,
     "node_id": "MTushMCW5D3cnpQeTTyQVf",
     "report_properties": {},
     "type": "CODE"
    },
    "vscode": {
     "languageId": "r"
    }
   },
   "outputs": [
    {
     "name": "stdout",
     "output_type": "stream",
     "text": [
      "Train Confusion Matrix:\n",
      "          Actual\n",
      "Predicted  Died Survived\n",
      "  Died      252       60\n",
      "  Survived   42      145\n",
      "\n",
      "Train Model Evaluation:\n",
      "  Model  Accuracy Precision    Recall  F1_Score\n",
      "1 Train 0.7955912 0.7754011 0.7073171 0.7397959\n"
     ]
    }
   ],
   "source": [
    "## Model Evaluation\n",
    "# Train Confusion Matrix\n",
    "conMat_Train <- table(train_data$pred_survived, train_data$Survived,\n",
    "                      dnn = c(\"Predicted\", \"Actual\"))\n",
    "\n",
    "# For creating a Train Dataframe\n",
    "trainAccuracy <- (conMat_Train[1, 1] + conMat_Train[2, 2]) / sum(conMat_Train)\n",
    "trainPrecision <- conMat_Train[2, 2] / (conMat_Train[2, 1] + conMat_Train[2, 2])\n",
    "trainRecall <- conMat_Train[2, 2] / (conMat_Train[1, 2] + conMat_Train[2, 2])\n",
    "trainF1Score <- 2 * ((trainPrecision * trainRecall)/(trainPrecision + trainRecall))\n",
    "\n",
    "# Train Model Evaluation\n",
    "Train <- data.frame(Model = \"Train\",\n",
    "                    Accuracy = trainAccuracy,\n",
    "                    Precision = trainPrecision,\n",
    "                    Recall = trainRecall,\n",
    "                    F1_Score = trainF1Score)\n",
    "\n",
    "cat(\"Train Confusion Matrix:\\n\")\n",
    "print(conMat_Train)\n",
    "cat(\"\\n\")\n",
    "cat(\"Train Model Evaluation:\\n\")\n",
    "print(Train)"
   ]
  },
  {
   "cell_type": "code",
   "execution_count": 11,
   "metadata": {
    "datalore": {
     "hide_input_from_viewers": false,
     "hide_output_from_viewers": false,
     "node_id": "ykwjy08nGhBpj01qqRt4yV",
     "report_properties": {},
     "type": "CODE"
    },
    "vscode": {
     "languageId": "r"
    }
   },
   "outputs": [
    {
     "name": "stdout",
     "output_type": "stream",
     "text": [
      "Test Confusion Matrix:\n",
      "          Actual\n",
      "Predicted  Died Survived\n",
      "  Died      103       20\n",
      "  Survived   27       65\n",
      "\n",
      "Test Model Evaluation:\n",
      "  Model  Accuracy Precision    Recall  F1_Score\n",
      "1  Test 0.7813953 0.7065217 0.7647059 0.7344633\n"
     ]
    }
   ],
   "source": [
    "## Model Evaluation\n",
    "# Test Confusion Matrix\n",
    "conMat_Test <- table(test_data$pred_survived, test_data$Survived,\n",
    "                     dnn = c(\"Predicted\", \"Actual\"))\n",
    "\n",
    "# For creating a Test Dataframe\n",
    "testAccuracy <- (conMat_Test[1, 1] + conMat_Test[2, 2]) / sum(conMat_Test)\n",
    "testPrecision <- conMat_Test[2, 2] / (conMat_Test[2, 1] + conMat_Test[2, 2])\n",
    "testRecall <- conMat_Test[2, 2] / (conMat_Test[1, 2] + conMat_Test[2, 2])\n",
    "testF1Score <- 2 * ((testPrecision * testRecall)/(testPrecision + testRecall))\n",
    "\n",
    "# Test Model Evaluation\n",
    "Test <- data.frame(Model = \"Test\",\n",
    "                   Accuracy = testAccuracy,\n",
    "                   Precision = testPrecision,\n",
    "                   Recall = testRecall,\n",
    "                   F1_Score = testF1Score)\n",
    "\n",
    "cat(\"Test Confusion Matrix:\\n\")\n",
    "print(conMat_Test)\n",
    "cat(\"\\n\")\n",
    "cat(\"Test Model Evaluation:\\n\")\n",
    "print(Test)"
   ]
  },
  {
   "cell_type": "code",
   "execution_count": 12,
   "metadata": {
    "datalore": {
     "hide_input_from_viewers": false,
     "hide_output_from_viewers": false,
     "node_id": "LHOBX3me587iqUT3eY7f8Q",
     "report_properties": {},
     "type": "CODE"
    },
    "vscode": {
     "languageId": "r"
    }
   },
   "outputs": [
    {
     "data": {
      "text/html": [
       "<table class=\"dataframe\">\n",
       "<caption>A tibble: 2 × 5</caption>\n",
       "<thead>\n",
       "\t<tr><th scope=col>Model</th><th scope=col>Accuracy</th><th scope=col>Precision</th><th scope=col>Recall</th><th scope=col>F1_Score</th></tr>\n",
       "\t<tr><th scope=col>&lt;chr&gt;</th><th scope=col>&lt;dbl&gt;</th><th scope=col>&lt;dbl&gt;</th><th scope=col>&lt;dbl&gt;</th><th scope=col>&lt;dbl&gt;</th></tr>\n",
       "</thead>\n",
       "<tbody>\n",
       "\t<tr><td>Train</td><td>0.7955912</td><td>0.7754011</td><td>0.7073171</td><td>0.7397959</td></tr>\n",
       "\t<tr><td>Test </td><td>0.7813953</td><td>0.7065217</td><td>0.7647059</td><td>0.7344633</td></tr>\n",
       "</tbody>\n",
       "</table>\n"
      ]
     },
     "metadata": {},
     "output_type": "display_data"
    }
   ],
   "source": [
    "## Summary\n",
    "# Bind the Train Dataframe and Test Dataframe together\n",
    "TrainTest <- bind_rows(Train, Test)\n",
    "tibble(TrainTest)"
   ]
  }
 ],
 "metadata": {
  "datalore": {
   "base_environment": "minimal",
   "computation_mode": "JUPYTER",
   "package_manager": "conda",
   "packages": [],
   "version": 1
  },
  "kernelspec": {
   "display_name": "R",
   "language": "r",
   "name": "ir"
  }
 },
 "nbformat": 4,
 "nbformat_minor": 4
}
