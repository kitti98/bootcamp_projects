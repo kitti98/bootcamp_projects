{
  "nbformat": 4,
  "nbformat_minor": 0,
  "metadata": {
    "colab": {
      "provenance": []
    },
    "kernelspec": {
      "name": "ir",
      "display_name": "R"
    },
    "language_info": {
      "name": "R"
    }
  },
  "cells": [
    {
      "cell_type": "code",
      "execution_count": 2,
      "metadata": {
        "id": "Up1dxOAxD3uJ",
        "colab": {
          "base_uri": "https://localhost:8080/"
        },
        "outputId": "31ce4953-7566-4943-9531-456cc7673faf"
      },
      "outputs": [
        {
          "output_type": "stream",
          "name": "stderr",
          "text": [
            "Installing package into ‘/usr/local/lib/R/site-library’\n",
            "(as ‘lib’ is unspecified)\n",
            "\n"
          ]
        }
      ],
      "source": [
        "# install a package\n",
        "install.packages(\"RPostgreSQL\")"
      ]
    },
    {
      "cell_type": "code",
      "source": [
        "# load libraries\n",
        "library(DBI)            # R Database Interface\n",
        "library(RPostgreSQL)    # ~ the driver to PostgreSQL\n",
        "library(dplyr)"
      ],
      "metadata": {
        "id": "Pz8fPg3cFM37"
      },
      "execution_count": null,
      "outputs": []
    },
    {
      "cell_type": "code",
      "source": [
        "con <- dbConnect(\n",
        "    PostgreSQL(),                                   # the driver -> to let R set any configs for a PostgreSQL server\n",
        "    host = \"floppy.db.elephantsql.com\",             # the server from ElephantSQL\n",
        "    dbname = \"pdvnycgh\",                            # user & default database from Elephant SQL\n",
        "    port = 5432,                                    # the default port of PostgreSQL -> 5432\n",
        "    user = \"pdvnycgh\",                              # same as dbname\n",
        "    password = \"DPWZGfm-gmhETtsPxTWxAaQmky6haki_\"\n",
        ")\n",
        "\n",
        "con"
      ],
      "metadata": {
        "colab": {
          "base_uri": "https://localhost:8080/",
          "height": 34
        },
        "id": "-gQo1aQaF0C0",
        "outputId": "45f1a296-f144-49c6-ad46-cb5b2c1c0782"
      },
      "execution_count": 6,
      "outputs": [
        {
          "output_type": "display_data",
          "data": {
            "text/plain": [
              "<PostgreSQLConnection>"
            ]
          },
          "metadata": {}
        }
      ]
    },
    {
      "cell_type": "code",
      "source": [
        "# create mock-up tables\n",
        "fav_series <- data.frame(\n",
        "    series_id = 1:5,\n",
        "    series = c(\"Dark\", \"Twenty Five Twenty One\", \"First Love\", \"Black Mirror\", \"The Chestnut Man\"),\n",
        "    score = c(10, 9, 8, 7, 8)\n",
        ")\n",
        "\n",
        "genres <- data.frame(\n",
        "    genre_id = 1:7,\n",
        "    genre = c(\"Drama\", \"Action\", \"Mystery\", \"Comedy\", \"Crime\", \"Romance\", \"Dystopia\")\n",
        ")\n",
        "\n",
        "bridge <- data.frame(\n",
        "    series_id = c(1, 1, 2, 2, 2, 3, 3, 4, 4, 5, 5),\n",
        "    genre_id = c(1, 3, 1, 4, 6, 1, 6, 1, 7, 2, 5)\n",
        ")"
      ],
      "metadata": {
        "id": "RoNtM37fJ-wZ"
      },
      "execution_count": 34,
      "outputs": []
    },
    {
      "cell_type": "code",
      "source": [
        "# write tables to the database server\n",
        "dbWriteTable(con, \"fav_series\", fav_series, row.names=FALSE)    # row names are ignored\n",
        "dbWriteTable(con, \"genres\", genres, row.names=FALSE)\n",
        "dbWriteTable(con, \"bridge\", bridge, row.names=FALSE)"
      ],
      "metadata": {
        "colab": {
          "base_uri": "https://localhost:8080/",
          "height": 69
        },
        "id": "4VGtufRMOdP6",
        "outputId": "cc5bf5dd-8d9a-4091-ee9b-36e43149e0ff"
      },
      "execution_count": 37,
      "outputs": [
        {
          "output_type": "display_data",
          "data": {
            "text/html": [
              "TRUE"
            ],
            "text/markdown": "TRUE",
            "text/latex": "TRUE",
            "text/plain": [
              "[1] TRUE"
            ]
          },
          "metadata": {}
        },
        {
          "output_type": "display_data",
          "data": {
            "text/html": [
              "TRUE"
            ],
            "text/markdown": "TRUE",
            "text/latex": "TRUE",
            "text/plain": [
              "[1] TRUE"
            ]
          },
          "metadata": {}
        },
        {
          "output_type": "display_data",
          "data": {
            "text/html": [
              "TRUE"
            ],
            "text/markdown": "TRUE",
            "text/latex": "TRUE",
            "text/plain": [
              "[1] TRUE"
            ]
          },
          "metadata": {}
        }
      ]
    },
    {
      "cell_type": "code",
      "source": [
        "# list all tables from the database server\n",
        "dbListTables(con)"
      ],
      "metadata": {
        "colab": {
          "base_uri": "https://localhost:8080/",
          "height": 34
        },
        "id": "xTY9WqnvWHIn",
        "outputId": "5bfb9b03-c41e-462e-aad9-02ace94359da"
      },
      "execution_count": 38,
      "outputs": [
        {
          "output_type": "display_data",
          "data": {
            "text/html": [
              "<style>\n",
              ".list-inline {list-style: none; margin:0; padding: 0}\n",
              ".list-inline>li {display: inline-block}\n",
              ".list-inline>li:not(:last-child)::after {content: \"\\00b7\"; padding: 0 .5ex}\n",
              "</style>\n",
              "<ol class=list-inline><li>'fav_series'</li><li>'genres'</li><li>'bridge'</li></ol>\n"
            ],
            "text/markdown": "1. 'fav_series'\n2. 'genres'\n3. 'bridge'\n\n\n",
            "text/latex": "\\begin{enumerate*}\n\\item 'fav\\_series'\n\\item 'genres'\n\\item 'bridge'\n\\end{enumerate*}\n",
            "text/plain": [
              "[1] \"fav_series\" \"genres\"     \"bridge\"    "
            ]
          },
          "metadata": {}
        }
      ]
    },
    {
      "cell_type": "code",
      "source": [
        "# get data from the database server\n",
        "my_series_info <- dbGetQuery(con, \n",
        "                \"SELECT \n",
        "                    se.series,\n",
        "                    se.score,\n",
        "                    ge.genre\n",
        "                FROM fav_series AS se \n",
        "                JOIN bridge AS br ON se.series_id = br.series_id\n",
        "                JOIN genres AS ge ON br.genre_id = ge.genre_id\n",
        "                ORDER BY 1\")\n",
        "my_series_info"
      ],
      "metadata": {
        "colab": {
          "base_uri": "https://localhost:8080/",
          "height": 443
        },
        "id": "28ZjmvZHZegx",
        "outputId": "242c9b7f-9cfe-493e-dc3f-777909a2d7d1"
      },
      "execution_count": 45,
      "outputs": [
        {
          "output_type": "display_data",
          "data": {
            "text/html": [
              "<table class=\"dataframe\">\n",
              "<caption>A data.frame: 11 × 3</caption>\n",
              "<thead>\n",
              "\t<tr><th></th><th scope=col>series</th><th scope=col>score</th><th scope=col>genre</th></tr>\n",
              "\t<tr><th></th><th scope=col>&lt;chr&gt;</th><th scope=col>&lt;dbl&gt;</th><th scope=col>&lt;chr&gt;</th></tr>\n",
              "</thead>\n",
              "<tbody>\n",
              "\t<tr><th scope=row>1</th><td>Black Mirror          </td><td> 7</td><td>Drama   </td></tr>\n",
              "\t<tr><th scope=row>2</th><td>Black Mirror          </td><td> 7</td><td>Dystopia</td></tr>\n",
              "\t<tr><th scope=row>3</th><td>Dark                  </td><td>10</td><td>Mystery </td></tr>\n",
              "\t<tr><th scope=row>4</th><td>Dark                  </td><td>10</td><td>Drama   </td></tr>\n",
              "\t<tr><th scope=row>5</th><td>First Love            </td><td> 8</td><td>Romance </td></tr>\n",
              "\t<tr><th scope=row>6</th><td>First Love            </td><td> 8</td><td>Drama   </td></tr>\n",
              "\t<tr><th scope=row>7</th><td>The Chestnut Man      </td><td> 8</td><td>Crime   </td></tr>\n",
              "\t<tr><th scope=row>8</th><td>The Chestnut Man      </td><td> 8</td><td>Action  </td></tr>\n",
              "\t<tr><th scope=row>9</th><td>Twenty Five Twenty One</td><td> 9</td><td>Romance </td></tr>\n",
              "\t<tr><th scope=row>10</th><td>Twenty Five Twenty One</td><td> 9</td><td>Comedy  </td></tr>\n",
              "\t<tr><th scope=row>11</th><td>Twenty Five Twenty One</td><td> 9</td><td>Drama   </td></tr>\n",
              "</tbody>\n",
              "</table>\n"
            ],
            "text/markdown": "\nA data.frame: 11 × 3\n\n| <!--/--> | series &lt;chr&gt; | score &lt;dbl&gt; | genre &lt;chr&gt; |\n|---|---|---|---|\n| 1 | Black Mirror           |  7 | Drama    |\n| 2 | Black Mirror           |  7 | Dystopia |\n| 3 | Dark                   | 10 | Mystery  |\n| 4 | Dark                   | 10 | Drama    |\n| 5 | First Love             |  8 | Romance  |\n| 6 | First Love             |  8 | Drama    |\n| 7 | The Chestnut Man       |  8 | Crime    |\n| 8 | The Chestnut Man       |  8 | Action   |\n| 9 | Twenty Five Twenty One |  9 | Romance  |\n| 10 | Twenty Five Twenty One |  9 | Comedy   |\n| 11 | Twenty Five Twenty One |  9 | Drama    |\n\n",
            "text/latex": "A data.frame: 11 × 3\n\\begin{tabular}{r|lll}\n  & series & score & genre\\\\\n  & <chr> & <dbl> & <chr>\\\\\n\\hline\n\t1 & Black Mirror           &  7 & Drama   \\\\\n\t2 & Black Mirror           &  7 & Dystopia\\\\\n\t3 & Dark                   & 10 & Mystery \\\\\n\t4 & Dark                   & 10 & Drama   \\\\\n\t5 & First Love             &  8 & Romance \\\\\n\t6 & First Love             &  8 & Drama   \\\\\n\t7 & The Chestnut Man       &  8 & Crime   \\\\\n\t8 & The Chestnut Man       &  8 & Action  \\\\\n\t9 & Twenty Five Twenty One &  9 & Romance \\\\\n\t10 & Twenty Five Twenty One &  9 & Comedy  \\\\\n\t11 & Twenty Five Twenty One &  9 & Drama   \\\\\n\\end{tabular}\n",
            "text/plain": [
              "   series                 score genre   \n",
              "1  Black Mirror            7    Drama   \n",
              "2  Black Mirror            7    Dystopia\n",
              "3  Dark                   10    Mystery \n",
              "4  Dark                   10    Drama   \n",
              "5  First Love              8    Romance \n",
              "6  First Love              8    Drama   \n",
              "7  The Chestnut Man        8    Crime   \n",
              "8  The Chestnut Man        8    Action  \n",
              "9  Twenty Five Twenty One  9    Romance \n",
              "10 Twenty Five Twenty One  9    Comedy  \n",
              "11 Twenty Five Twenty One  9    Drama   "
            ]
          },
          "metadata": {}
        }
      ]
    },
    {
      "cell_type": "code",
      "source": [
        "# get data from the database server\n",
        "# use dplyr to manipulate data\n",
        "my_series <- dbGetQuery(con, \"SELECT * FROM fav_series\")\n",
        "my_series %>%\n",
        "  mutate(language = c(\"German\", \"Korean\", \"Japanese\", \"English\", \"Danish\"))"
      ],
      "metadata": {
        "colab": {
          "base_uri": "https://localhost:8080/",
          "height": 255
        },
        "id": "8IewVNGIW9X9",
        "outputId": "2f66cc67-bf12-4029-f7e9-4d2273a8cad4"
      },
      "execution_count": 47,
      "outputs": [
        {
          "output_type": "display_data",
          "data": {
            "text/html": [
              "<table class=\"dataframe\">\n",
              "<caption>A data.frame: 5 × 4</caption>\n",
              "<thead>\n",
              "\t<tr><th></th><th scope=col>series_id</th><th scope=col>series</th><th scope=col>score</th><th scope=col>language</th></tr>\n",
              "\t<tr><th></th><th scope=col>&lt;int&gt;</th><th scope=col>&lt;chr&gt;</th><th scope=col>&lt;dbl&gt;</th><th scope=col>&lt;chr&gt;</th></tr>\n",
              "</thead>\n",
              "<tbody>\n",
              "\t<tr><th scope=row>1</th><td>1</td><td>Dark                  </td><td>10</td><td>German  </td></tr>\n",
              "\t<tr><th scope=row>2</th><td>2</td><td>Twenty Five Twenty One</td><td> 9</td><td>Korean  </td></tr>\n",
              "\t<tr><th scope=row>3</th><td>3</td><td>First Love            </td><td> 8</td><td>Japanese</td></tr>\n",
              "\t<tr><th scope=row>4</th><td>4</td><td>Black Mirror          </td><td> 7</td><td>English </td></tr>\n",
              "\t<tr><th scope=row>5</th><td>5</td><td>The Chestnut Man      </td><td> 8</td><td>Danish  </td></tr>\n",
              "</tbody>\n",
              "</table>\n"
            ],
            "text/markdown": "\nA data.frame: 5 × 4\n\n| <!--/--> | series_id &lt;int&gt; | series &lt;chr&gt; | score &lt;dbl&gt; | language &lt;chr&gt; |\n|---|---|---|---|---|\n| 1 | 1 | Dark                   | 10 | German   |\n| 2 | 2 | Twenty Five Twenty One |  9 | Korean   |\n| 3 | 3 | First Love             |  8 | Japanese |\n| 4 | 4 | Black Mirror           |  7 | English  |\n| 5 | 5 | The Chestnut Man       |  8 | Danish   |\n\n",
            "text/latex": "A data.frame: 5 × 4\n\\begin{tabular}{r|llll}\n  & series\\_id & series & score & language\\\\\n  & <int> & <chr> & <dbl> & <chr>\\\\\n\\hline\n\t1 & 1 & Dark                   & 10 & German  \\\\\n\t2 & 2 & Twenty Five Twenty One &  9 & Korean  \\\\\n\t3 & 3 & First Love             &  8 & Japanese\\\\\n\t4 & 4 & Black Mirror           &  7 & English \\\\\n\t5 & 5 & The Chestnut Man       &  8 & Danish  \\\\\n\\end{tabular}\n",
            "text/plain": [
              "  series_id series                 score language\n",
              "1 1         Dark                   10    German  \n",
              "2 2         Twenty Five Twenty One  9    Korean  \n",
              "3 3         First Love              8    Japanese\n",
              "4 4         Black Mirror            7    English \n",
              "5 5         The Chestnut Man        8    Danish  "
            ]
          },
          "metadata": {}
        }
      ]
    },
    {
      "cell_type": "code",
      "source": [
        "# !!! CLOSE connection\n",
        "dbDisconnect(con)"
      ],
      "metadata": {
        "colab": {
          "base_uri": "https://localhost:8080/",
          "height": 34
        },
        "id": "xI-zzoa4cTkt",
        "outputId": "bff299b7-47c7-4e42-d0e0-1da6f4443f07"
      },
      "execution_count": 48,
      "outputs": [
        {
          "output_type": "display_data",
          "data": {
            "text/html": [
              "TRUE"
            ],
            "text/markdown": "TRUE",
            "text/latex": "TRUE",
            "text/plain": [
              "[1] TRUE"
            ]
          },
          "metadata": {}
        }
      ]
    }
  ]
}