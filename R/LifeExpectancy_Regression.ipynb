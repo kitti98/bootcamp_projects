{
  "nbformat": 4,
  "nbformat_minor": 0,
  "metadata": {
    "colab": {
      "provenance": []
    },
    "kernelspec": {
      "name": "ir",
      "display_name": "R"
    },
    "language_info": {
      "name": "R"
    }
  },
  "cells": [
    {
      "cell_type": "markdown",
      "source": [
        "# **Machine Learning Model for Life Expectancy Prediction using `caret`**"
      ],
      "metadata": {
        "id": "skhvXqh6Xzb9"
      }
    },
    {
      "cell_type": "markdown",
      "source": [
        "## Life Expectancy Dataset: https://www.kaggle.com/datasets/kumarajarshi/life-expectancy-who\n",
        "\n",
        "\n",
        "The dataset related to life expectancy, health factors for 193 countries has been collected from the same WHO data repository website and its corresponding economic data was collected from United Nation website. All predicting variables was then divided into several broad categories:​Immunization related factors, Mortality factors, Economical factors and Social factors.\n",
        "\n",
        "\n",
        "**Target: ‘Life expectancy’**"
      ],
      "metadata": {
        "id": "Om8GuIjWTvtV"
      }
    },
    {
      "cell_type": "markdown",
      "source": [
        "### **Install Libraries**"
      ],
      "metadata": {
        "id": "VJO1xaJTR4vT"
      }
    },
    {
      "cell_type": "code",
      "source": [
        "install.packages('caret')\n",
        "install.packages('glmnet')"
      ],
      "metadata": {
        "colab": {
          "base_uri": "https://localhost:8080/"
        },
        "id": "UMHc1eReZMaj",
        "outputId": "3da44aa8-8de0-4132-f9ee-6554ca544ee4"
      },
      "execution_count": 185,
      "outputs": [
        {
          "output_type": "stream",
          "name": "stderr",
          "text": [
            "Installing package into ‘/usr/local/lib/R/site-library’\n",
            "(as ‘lib’ is unspecified)\n",
            "\n",
            "Installing package into ‘/usr/local/lib/R/site-library’\n",
            "(as ‘lib’ is unspecified)\n",
            "\n"
          ]
        }
      ]
    },
    {
      "cell_type": "markdown",
      "source": [
        "### **Import Libraries**"
      ],
      "metadata": {
        "id": "0DhIZOlBdFkO"
      }
    },
    {
      "cell_type": "code",
      "source": [
        "library(tidyverse)\n",
        "library(caret)"
      ],
      "metadata": {
        "id": "leei2snQdGfe"
      },
      "execution_count": 186,
      "outputs": []
    },
    {
      "cell_type": "markdown",
      "source": [
        "### **Explore Data**"
      ],
      "metadata": {
        "id": "UE7IIc2MZRal"
      }
    },
    {
      "cell_type": "code",
      "source": [
        "# import data\n",
        "life <- read_csv(\"Life_Expectancy.csv\")\n",
        "summary(life)   # summary of dataset"
      ],
      "metadata": {
        "colab": {
          "base_uri": "https://localhost:8080/",
          "height": 989
        },
        "id": "0-kQCoisZqcx",
        "outputId": "b6b27d5d-93fd-462d-a771-cbaae0851003"
      },
      "execution_count": 187,
      "outputs": [
        {
          "output_type": "stream",
          "name": "stderr",
          "text": [
            "\u001b[1mRows: \u001b[22m\u001b[34m2938\u001b[39m \u001b[1mColumns: \u001b[22m\u001b[34m22\u001b[39m\n",
            "\u001b[36m──\u001b[39m \u001b[1mColumn specification\u001b[22m \u001b[36m────────────────────────────────────────────────────────\u001b[39m\n",
            "\u001b[1mDelimiter:\u001b[22m \",\"\n",
            "\u001b[31mchr\u001b[39m  (2): Country, Status\n",
            "\u001b[32mdbl\u001b[39m (20): Year, Life expectancy, Adult Mortality, infant deaths, Alcohol, pe...\n",
            "\n",
            "\u001b[36mℹ\u001b[39m Use `spec()` to retrieve the full column specification for this data.\n",
            "\u001b[36mℹ\u001b[39m Specify the column types or set `show_col_types = FALSE` to quiet this message.\n"
          ]
        },
        {
          "output_type": "display_data",
          "data": {
            "text/plain": [
              "   Country               Year         Status          Life expectancy\n",
              " Length:2938        Min.   :2000   Length:2938        Min.   :36.30  \n",
              " Class :character   1st Qu.:2004   Class :character   1st Qu.:63.10  \n",
              " Mode  :character   Median :2008   Mode  :character   Median :72.10  \n",
              "                    Mean   :2008                      Mean   :69.22  \n",
              "                    3rd Qu.:2012                      3rd Qu.:75.70  \n",
              "                    Max.   :2015                      Max.   :89.00  \n",
              "                                                      NA's   :10     \n",
              " Adult Mortality infant deaths       Alcohol        percentage expenditure\n",
              " Min.   :  1.0   Min.   :   0.0   Min.   : 0.0100   Min.   :    0.000     \n",
              " 1st Qu.: 74.0   1st Qu.:   0.0   1st Qu.: 0.8775   1st Qu.:    4.685     \n",
              " Median :144.0   Median :   3.0   Median : 3.7550   Median :   64.913     \n",
              " Mean   :164.8   Mean   :  30.3   Mean   : 4.6029   Mean   :  738.251     \n",
              " 3rd Qu.:228.0   3rd Qu.:  22.0   3rd Qu.: 7.7025   3rd Qu.:  441.534     \n",
              " Max.   :723.0   Max.   :1800.0   Max.   :17.8700   Max.   :19479.912     \n",
              " NA's   :10                       NA's   :194                             \n",
              "  Hepatitis B       Measles              BMI        under-five deaths\n",
              " Min.   : 1.00   Min.   :     0.0   Min.   : 1.00   Min.   :   0.00  \n",
              " 1st Qu.:77.00   1st Qu.:     0.0   1st Qu.:19.30   1st Qu.:   0.00  \n",
              " Median :92.00   Median :    17.0   Median :43.50   Median :   4.00  \n",
              " Mean   :80.94   Mean   :  2419.6   Mean   :38.32   Mean   :  42.04  \n",
              " 3rd Qu.:97.00   3rd Qu.:   360.2   3rd Qu.:56.20   3rd Qu.:  28.00  \n",
              " Max.   :99.00   Max.   :212183.0   Max.   :87.30   Max.   :2500.00  \n",
              " NA's   :553                        NA's   :34                       \n",
              "     Polio       Total expenditure   Diphtheria       HIV/AIDS     \n",
              " Min.   : 3.00   Min.   : 0.370    Min.   : 2.00   Min.   : 0.100  \n",
              " 1st Qu.:78.00   1st Qu.: 4.260    1st Qu.:78.00   1st Qu.: 0.100  \n",
              " Median :93.00   Median : 5.755    Median :93.00   Median : 0.100  \n",
              " Mean   :82.55   Mean   : 5.938    Mean   :82.32   Mean   : 1.742  \n",
              " 3rd Qu.:97.00   3rd Qu.: 7.492    3rd Qu.:97.00   3rd Qu.: 0.800  \n",
              " Max.   :99.00   Max.   :17.600    Max.   :99.00   Max.   :50.600  \n",
              " NA's   :19      NA's   :226       NA's   :19                      \n",
              "      GDP              Population        thinness  1-19 years\n",
              " Min.   :     1.68   Min.   :3.400e+01   Min.   : 0.10       \n",
              " 1st Qu.:   463.94   1st Qu.:1.958e+05   1st Qu.: 1.60       \n",
              " Median :  1766.95   Median :1.387e+06   Median : 3.30       \n",
              " Mean   :  7483.16   Mean   :1.275e+07   Mean   : 4.84       \n",
              " 3rd Qu.:  5910.81   3rd Qu.:7.420e+06   3rd Qu.: 7.20       \n",
              " Max.   :119172.74   Max.   :1.294e+09   Max.   :27.70       \n",
              " NA's   :448         NA's   :652         NA's   :34          \n",
              " thinness 5-9 years Income composition of resources   Schooling    \n",
              " Min.   : 0.10      Min.   :0.0000                  Min.   : 0.00  \n",
              " 1st Qu.: 1.50      1st Qu.:0.4930                  1st Qu.:10.10  \n",
              " Median : 3.30      Median :0.6770                  Median :12.30  \n",
              " Mean   : 4.87      Mean   :0.6276                  Mean   :11.99  \n",
              " 3rd Qu.: 7.20      3rd Qu.:0.7790                  3rd Qu.:14.30  \n",
              " Max.   :28.60      Max.   :0.9480                  Max.   :20.70  \n",
              " NA's   :34         NA's   :167                     NA's   :163    "
            ]
          },
          "metadata": {}
        }
      ]
    },
    {
      "cell_type": "code",
      "source": [
        "# change column names -> remove punctuation and whitespace, then replace them with an underscore\n",
        "life <- life %>% \n",
        "  rename_with(~ tolower(gsub('[[:punct:]]', ' ', .x))) %>% \n",
        "  rename_with(~ gsub(' ', '_', .x))\n",
        "\n",
        "# convert the country and status columns to factors\n",
        "life$country <- factor(life$country)\n",
        "life$status <- factor(life$status,\n",
        "                      levels = c(\"Developing\", \"Developed\"),\n",
        "                      labels = c(0, 1))\n",
        "\n",
        "glimpse(life)"
      ],
      "metadata": {
        "colab": {
          "base_uri": "https://localhost:8080/"
        },
        "id": "dXzy1P_mdpwT",
        "outputId": "9622018a-1c52-44f8-ea1e-76c523c095d5"
      },
      "execution_count": 188,
      "outputs": [
        {
          "output_type": "stream",
          "name": "stdout",
          "text": [
            "Rows: 2,938\n",
            "Columns: 22\n",
            "$ country                         \u001b[3m\u001b[90m<fct>\u001b[39m\u001b[23m Afghanistan, Afghanistan, Afghanistan,…\n",
            "$ year                            \u001b[3m\u001b[90m<dbl>\u001b[39m\u001b[23m 2015, 2014, 2013, 2012, 2011, 2010, 20…\n",
            "$ status                          \u001b[3m\u001b[90m<fct>\u001b[39m\u001b[23m 0, 0, 0, 0, 0, 0, 0, 0, 0, 0, 0, 0, 0,…\n",
            "$ life_expectancy                 \u001b[3m\u001b[90m<dbl>\u001b[39m\u001b[23m 65.0, 59.9, 59.9, 59.5, 59.2, 58.8, 58…\n",
            "$ adult_mortality                 \u001b[3m\u001b[90m<dbl>\u001b[39m\u001b[23m 263, 271, 268, 272, 275, 279, 281, 287…\n",
            "$ infant_deaths                   \u001b[3m\u001b[90m<dbl>\u001b[39m\u001b[23m 62, 64, 66, 69, 71, 74, 77, 80, 82, 84…\n",
            "$ alcohol                         \u001b[3m\u001b[90m<dbl>\u001b[39m\u001b[23m 0.01, 0.01, 0.01, 0.01, 0.01, 0.01, 0.…\n",
            "$ percentage_expenditure          \u001b[3m\u001b[90m<dbl>\u001b[39m\u001b[23m 71.279624, 73.523582, 73.219243, 78.18…\n",
            "$ hepatitis_b                     \u001b[3m\u001b[90m<dbl>\u001b[39m\u001b[23m 65, 62, 64, 67, 68, 66, 63, 64, 63, 64…\n",
            "$ measles                         \u001b[3m\u001b[90m<dbl>\u001b[39m\u001b[23m 1154, 492, 430, 2787, 3013, 1989, 2861…\n",
            "$ bmi                             \u001b[3m\u001b[90m<dbl>\u001b[39m\u001b[23m 19.1, 18.6, 18.1, 17.6, 17.2, 16.7, 16…\n",
            "$ under_five_deaths               \u001b[3m\u001b[90m<dbl>\u001b[39m\u001b[23m 83, 86, 89, 93, 97, 102, 106, 110, 113…\n",
            "$ polio                           \u001b[3m\u001b[90m<dbl>\u001b[39m\u001b[23m 6, 58, 62, 67, 68, 66, 63, 64, 63, 58,…\n",
            "$ total_expenditure               \u001b[3m\u001b[90m<dbl>\u001b[39m\u001b[23m 8.16, 8.18, 8.13, 8.52, 7.87, 9.20, 9.…\n",
            "$ diphtheria                      \u001b[3m\u001b[90m<dbl>\u001b[39m\u001b[23m 65, 62, 64, 67, 68, 66, 63, 64, 63, 58…\n",
            "$ hiv_aids                        \u001b[3m\u001b[90m<dbl>\u001b[39m\u001b[23m 0.1, 0.1, 0.1, 0.1, 0.1, 0.1, 0.1, 0.1…\n",
            "$ gdp                             \u001b[3m\u001b[90m<dbl>\u001b[39m\u001b[23m 584.25921, 612.69651, 631.74498, 669.9…\n",
            "$ population                      \u001b[3m\u001b[90m<dbl>\u001b[39m\u001b[23m 33736494, 327582, 31731688, 3696958, 2…\n",
            "$ thinness__1_19_years            \u001b[3m\u001b[90m<dbl>\u001b[39m\u001b[23m 17.2, 17.5, 17.7, 17.9, 18.2, 18.4, 18…\n",
            "$ thinness_5_9_years              \u001b[3m\u001b[90m<dbl>\u001b[39m\u001b[23m 17.3, 17.5, 17.7, 18.0, 18.2, 18.4, 18…\n",
            "$ income_composition_of_resources \u001b[3m\u001b[90m<dbl>\u001b[39m\u001b[23m 0.479, 0.476, 0.470, 0.463, 0.454, 0.4…\n",
            "$ schooling                       \u001b[3m\u001b[90m<dbl>\u001b[39m\u001b[23m 10.1, 10.0, 9.9, 9.8, 9.5, 9.2, 8.9, 8…\n"
          ]
        }
      ]
    },
    {
      "cell_type": "code",
      "source": [
        "# check to see if there are missing data\n",
        "cat(\"The number of rows:\", nrow(life))        \n",
        "cat(\"\\nTotal missing values in the dataset:\", sum(is.na(life)))\n",
        "cat(\"\\nThe number of complete rows:\", sum(complete.cases(life)))\n",
        "cat(\"\\nThe proportion of complete rows:\", mean(complete.cases(life)))"
      ],
      "metadata": {
        "colab": {
          "base_uri": "https://localhost:8080/"
        },
        "id": "qI-3KVxZeoM_",
        "outputId": "abc0c698-eb57-4db2-b65f-0473a641b407"
      },
      "execution_count": 189,
      "outputs": [
        {
          "output_type": "stream",
          "name": "stdout",
          "text": [
            "The number of rows: 2938\n",
            "Total missing values in the dataset: 2563\n",
            "The number of complete rows: 1649\n",
            "The proportion of complete rows: 0.5612662"
          ]
        }
      ]
    },
    {
      "cell_type": "code",
      "source": [
        "# the frequency of the country column -> top 15 countries in ascending order\n",
        "life %>%\n",
        "  group_by(country) %>%\n",
        "  summarise(n=n()) %>%\n",
        "  arrange(n) %>%\n",
        "  head(15)\n",
        "\n",
        "# remove 10 countries that appear only once\n",
        "appearOnce <- life %>% \n",
        "  group_by(country) %>%\n",
        "  summarise(n = n()) %>%  \n",
        "  filter(n < 16)\n",
        "\n",
        "life <- life %>%\n",
        "  filter(!(country %in% appearOnce$country))"
      ],
      "metadata": {
        "colab": {
          "base_uri": "https://localhost:8080/",
          "height": 568
        },
        "id": "JShsXoaqg4k-",
        "outputId": "98b0a45e-ec96-41df-f23d-328d4e02631d"
      },
      "execution_count": 190,
      "outputs": [
        {
          "output_type": "display_data",
          "data": {
            "text/html": [
              "<table class=\"dataframe\">\n",
              "<caption>A tibble: 15 × 2</caption>\n",
              "<thead>\n",
              "\t<tr><th scope=col>country</th><th scope=col>n</th></tr>\n",
              "\t<tr><th scope=col>&lt;fct&gt;</th><th scope=col>&lt;int&gt;</th></tr>\n",
              "</thead>\n",
              "<tbody>\n",
              "\t<tr><td>Cook Islands         </td><td> 1</td></tr>\n",
              "\t<tr><td>Dominica             </td><td> 1</td></tr>\n",
              "\t<tr><td>Marshall Islands     </td><td> 1</td></tr>\n",
              "\t<tr><td>Monaco               </td><td> 1</td></tr>\n",
              "\t<tr><td>Nauru                </td><td> 1</td></tr>\n",
              "\t<tr><td>Niue                 </td><td> 1</td></tr>\n",
              "\t<tr><td>Palau                </td><td> 1</td></tr>\n",
              "\t<tr><td>Saint Kitts and Nevis</td><td> 1</td></tr>\n",
              "\t<tr><td>San Marino           </td><td> 1</td></tr>\n",
              "\t<tr><td>Tuvalu               </td><td> 1</td></tr>\n",
              "\t<tr><td>Afghanistan          </td><td>16</td></tr>\n",
              "\t<tr><td>Albania              </td><td>16</td></tr>\n",
              "\t<tr><td>Algeria              </td><td>16</td></tr>\n",
              "\t<tr><td>Angola               </td><td>16</td></tr>\n",
              "\t<tr><td>Antigua and Barbuda  </td><td>16</td></tr>\n",
              "</tbody>\n",
              "</table>\n"
            ],
            "text/markdown": "\nA tibble: 15 × 2\n\n| country &lt;fct&gt; | n &lt;int&gt; |\n|---|---|\n| Cook Islands          |  1 |\n| Dominica              |  1 |\n| Marshall Islands      |  1 |\n| Monaco                |  1 |\n| Nauru                 |  1 |\n| Niue                  |  1 |\n| Palau                 |  1 |\n| Saint Kitts and Nevis |  1 |\n| San Marino            |  1 |\n| Tuvalu                |  1 |\n| Afghanistan           | 16 |\n| Albania               | 16 |\n| Algeria               | 16 |\n| Angola                | 16 |\n| Antigua and Barbuda   | 16 |\n\n",
            "text/latex": "A tibble: 15 × 2\n\\begin{tabular}{ll}\n country & n\\\\\n <fct> & <int>\\\\\n\\hline\n\t Cook Islands          &  1\\\\\n\t Dominica              &  1\\\\\n\t Marshall Islands      &  1\\\\\n\t Monaco                &  1\\\\\n\t Nauru                 &  1\\\\\n\t Niue                  &  1\\\\\n\t Palau                 &  1\\\\\n\t Saint Kitts and Nevis &  1\\\\\n\t San Marino            &  1\\\\\n\t Tuvalu                &  1\\\\\n\t Afghanistan           & 16\\\\\n\t Albania               & 16\\\\\n\t Algeria               & 16\\\\\n\t Angola                & 16\\\\\n\t Antigua and Barbuda   & 16\\\\\n\\end{tabular}\n",
            "text/plain": [
              "   country               n \n",
              "1  Cook Islands           1\n",
              "2  Dominica               1\n",
              "3  Marshall Islands       1\n",
              "4  Monaco                 1\n",
              "5  Nauru                  1\n",
              "6  Niue                   1\n",
              "7  Palau                  1\n",
              "8  Saint Kitts and Nevis  1\n",
              "9  San Marino             1\n",
              "10 Tuvalu                 1\n",
              "11 Afghanistan           16\n",
              "12 Albania               16\n",
              "13 Algeria               16\n",
              "14 Angola                16\n",
              "15 Antigua and Barbuda   16"
            ]
          },
          "metadata": {}
        }
      ]
    },
    {
      "cell_type": "markdown",
      "source": [
        "### **Split Data**"
      ],
      "metadata": {
        "id": "9_jtTx8Pe0vc"
      }
    },
    {
      "cell_type": "code",
      "source": [
        "# create a train_test_split function\n",
        "train_test_split <- function(data, train_size = 0.7) {      # default trainning set = 70%\n",
        "  set.seed(70)                           \n",
        "  n <- nrow(data)\n",
        "  id <- sample(1:n, size = n*train_size)\n",
        "  train_data <- data[id, ]\n",
        "  test_data <- data[-id, ]\n",
        "  \n",
        "  return(list(train_data, test_data))\n",
        "}"
      ],
      "metadata": {
        "id": "bxM2X7wRqoEp"
      },
      "execution_count": 191,
      "outputs": []
    },
    {
      "cell_type": "code",
      "source": [
        "# split data\n",
        "split_data <- train_test_split(life)\n",
        "train_data <- split_data[[1]]\n",
        "test_data <- split_data[[2]]\n",
        "\n",
        "summary(train_data)     # summary of the trainning data"
      ],
      "metadata": {
        "colab": {
          "base_uri": "https://localhost:8080/",
          "height": 850
        },
        "id": "T5Gq6l7lS2eu",
        "outputId": "dfa41c1f-14df-47b4-81dc-95b314252900"
      },
      "execution_count": 192,
      "outputs": [
        {
          "output_type": "display_data",
          "data": {
            "text/plain": [
              "                country          year      status   life_expectancy\n",
              " Chile              :  16   Min.   :2000   0:1698   Min.   :36.30  \n",
              " Austria            :  15   1st Qu.:2003   1: 351   1st Qu.:63.10  \n",
              " Fiji               :  15   Median :2007            Median :72.00  \n",
              " Republic of Korea  :  15   Mean   :2007            Mean   :69.18  \n",
              " Zimbabwe           :  15   3rd Qu.:2011            3rd Qu.:75.80  \n",
              " Antigua and Barbuda:  14   Max.   :2015            Max.   :89.00  \n",
              " (Other)            :1959                                          \n",
              " adult_mortality infant_deaths        alcohol       percentage_expenditure\n",
              " Min.   :  1.0   Min.   :   0.00   Min.   : 0.010   Min.   :    0.000     \n",
              " 1st Qu.: 74.0   1st Qu.:   0.00   1st Qu.: 0.960   1st Qu.:    4.113     \n",
              " Median :144.0   Median :   3.00   Median : 3.840   Median :   63.878     \n",
              " Mean   :164.8   Mean   :  29.14   Mean   : 4.669   Mean   :  704.981     \n",
              " 3rd Qu.:227.0   3rd Qu.:  21.00   3rd Qu.: 7.810   3rd Qu.:  437.106     \n",
              " Max.   :723.0   Max.   :1800.00   Max.   :17.870   Max.   :18961.349     \n",
              "                                   NA's   :132                            \n",
              "  hepatitis_b     measles            bmi        under_five_deaths\n",
              " Min.   : 1    Min.   :     0   Min.   : 1.40   Min.   :   0.00  \n",
              " 1st Qu.:77    1st Qu.:     0   1st Qu.:19.40   1st Qu.:   0.00  \n",
              " Median :92    Median :    16   Median :43.55   Median :   4.00  \n",
              " Mean   :81    Mean   :  2080   Mean   :38.48   Mean   :  40.58  \n",
              " 3rd Qu.:97    3rd Qu.:   351   3rd Qu.:56.30   3rd Qu.:  27.00  \n",
              " Max.   :99    Max.   :182485   Max.   :77.10   Max.   :2500.00  \n",
              " NA's   :379                    NA's   :21                       \n",
              "     polio       total_expenditure   diphtheria       hiv_aids     \n",
              " Min.   : 3.00   Min.   : 0.370    Min.   : 3.00   Min.   : 0.100  \n",
              " 1st Qu.:78.00   1st Qu.: 4.280    1st Qu.:78.00   1st Qu.: 0.100  \n",
              " Median :93.00   Median : 5.800    Median :93.00   Median : 0.100  \n",
              " Mean   :82.49   Mean   : 5.963    Mean   :82.11   Mean   : 1.768  \n",
              " 3rd Qu.:97.00   3rd Qu.: 7.530    3rd Qu.:97.00   3rd Qu.: 0.800  \n",
              " Max.   :99.00   Max.   :17.200    Max.   :99.00   Max.   :49.900  \n",
              " NA's   :14      NA's   :154       NA's   :14                      \n",
              "      gdp              population        thinness__1_19_years\n",
              " Min.   :     4.61   Min.   :3.400e+01   Min.   : 0.100      \n",
              " 1st Qu.:   474.37   1st Qu.:1.952e+05   1st Qu.: 1.600      \n",
              " Median :  1761.89   Median :1.413e+06   Median : 3.400      \n",
              " Mean   :  7275.44   Mean   :1.113e+07   Mean   : 4.812      \n",
              " 3rd Qu.:  5884.81   3rd Qu.:7.620e+06   3rd Qu.: 7.100      \n",
              " Max.   :115761.58   Max.   :1.180e+09   Max.   :27.700      \n",
              " NA's   :323         NA's   :458         NA's   :21          \n",
              " thinness_5_9_years income_composition_of_resources   schooling    \n",
              " Min.   : 0.10      Min.   :0.0000                  Min.   : 0.00  \n",
              " 1st Qu.: 1.50      1st Qu.:0.4900                  1st Qu.:10.10  \n",
              " Median : 3.30      Median :0.6750                  Median :12.30  \n",
              " Mean   : 4.82      Mean   :0.6244                  Mean   :11.99  \n",
              " 3rd Qu.: 7.10      3rd Qu.:0.7792                  3rd Qu.:14.30  \n",
              " Max.   :28.60      Max.   :0.9480                  Max.   :20.70  \n",
              " NA's   :21         NA's   :113                     NA's   :113    "
            ]
          },
          "metadata": {}
        }
      ]
    },
    {
      "cell_type": "code",
      "source": [
        "# the bagging imputation method for filling in missing data\n",
        "set.seed(37)\n",
        "bagMissing <- preProcess(train_data, method = \"bagImpute\")\n",
        "train_data <- predict(bagMissing, newdata = train_data)\n",
        "\n",
        "cat(\"\\nTotal missing values in the dataset:\", sum(is.na(train_data)))\n",
        "cat(\"\\nThe proportion of complete rows:\", mean(complete.cases(train_data)))"
      ],
      "metadata": {
        "colab": {
          "base_uri": "https://localhost:8080/"
        },
        "id": "Fwvzq2tut4TC",
        "outputId": "0d00bc2d-df4b-4664-8dfb-27c83103c414"
      },
      "execution_count": 193,
      "outputs": [
        {
          "output_type": "stream",
          "name": "stdout",
          "text": [
            "\n",
            "Total missing values in the dataset: 0\n",
            "The proportion of complete rows: 1"
          ]
        }
      ]
    },
    {
      "cell_type": "code",
      "source": [
        "## k-fold target encoding for the country column\n",
        "# create the k-value for each row -> 5 folds\n",
        "set.seed(123)\n",
        "train_data <- train_data %>% \n",
        "  mutate(k = sample(1:5, size = nrow(.), replace = TRUE))\n",
        "\n",
        "train_data %>% \n",
        "  select(country, k) %>% \n",
        "  head(10)"
      ],
      "metadata": {
        "colab": {
          "base_uri": "https://localhost:8080/",
          "height": 412
        },
        "id": "zoeeUo67uufr",
        "outputId": "11b65769-f980-4400-dd8b-389c9ede1a07"
      },
      "execution_count": 194,
      "outputs": [
        {
          "output_type": "display_data",
          "data": {
            "text/html": [
              "<table class=\"dataframe\">\n",
              "<caption>A tibble: 10 × 2</caption>\n",
              "<thead>\n",
              "\t<tr><th scope=col>country</th><th scope=col>k</th></tr>\n",
              "\t<tr><th scope=col>&lt;fct&gt;</th><th scope=col>&lt;int&gt;</th></tr>\n",
              "</thead>\n",
              "<tbody>\n",
              "\t<tr><td>Gambia             </td><td>3</td></tr>\n",
              "\t<tr><td>Czechia            </td><td>3</td></tr>\n",
              "\t<tr><td>Benin              </td><td>2</td></tr>\n",
              "\t<tr><td>Croatia            </td><td>2</td></tr>\n",
              "\t<tr><td>Nepal              </td><td>3</td></tr>\n",
              "\t<tr><td>Slovenia           </td><td>5</td></tr>\n",
              "\t<tr><td>Papua New Guinea   </td><td>4</td></tr>\n",
              "\t<tr><td>Republic of Moldova</td><td>1</td></tr>\n",
              "\t<tr><td>Burundi            </td><td>2</td></tr>\n",
              "\t<tr><td>Nicaragua          </td><td>3</td></tr>\n",
              "</tbody>\n",
              "</table>\n"
            ],
            "text/markdown": "\nA tibble: 10 × 2\n\n| country &lt;fct&gt; | k &lt;int&gt; |\n|---|---|\n| Gambia              | 3 |\n| Czechia             | 3 |\n| Benin               | 2 |\n| Croatia             | 2 |\n| Nepal               | 3 |\n| Slovenia            | 5 |\n| Papua New Guinea    | 4 |\n| Republic of Moldova | 1 |\n| Burundi             | 2 |\n| Nicaragua           | 3 |\n\n",
            "text/latex": "A tibble: 10 × 2\n\\begin{tabular}{ll}\n country & k\\\\\n <fct> & <int>\\\\\n\\hline\n\t Gambia              & 3\\\\\n\t Czechia             & 3\\\\\n\t Benin               & 2\\\\\n\t Croatia             & 2\\\\\n\t Nepal               & 3\\\\\n\t Slovenia            & 5\\\\\n\t Papua New Guinea    & 4\\\\\n\t Republic of Moldova & 1\\\\\n\t Burundi             & 2\\\\\n\t Nicaragua           & 3\\\\\n\\end{tabular}\n",
            "text/plain": [
              "   country             k\n",
              "1  Gambia              3\n",
              "2  Czechia             3\n",
              "3  Benin               2\n",
              "4  Croatia             2\n",
              "5  Nepal               3\n",
              "6  Slovenia            5\n",
              "7  Papua New Guinea    4\n",
              "8  Republic of Moldova 1\n",
              "9  Burundi             2\n",
              "10 Nicaragua           3"
            ]
          },
          "metadata": {}
        }
      ]
    },
    {
      "cell_type": "code",
      "source": [
        "# k-fold target encoding function\n",
        "target_enc <- function(data, enc_col, tar_col, k_col,\n",
        "                       kmin, kmax){\n",
        "  require(tidyverse)\n",
        "  col_name <- paste0(\"tar_enc_\", enc_col)\n",
        "  \n",
        "  temp <- map_df(kmin:kmax, function(k){\n",
        "    \n",
        "    xtrain <- data[data[k_col] != k, ]\n",
        "    xvalid <- data[data[k_col] == k, ]\n",
        "    \n",
        "    feat <- xtrain %>% \n",
        "      group_by_at(.vars = enc_col) %>%\n",
        "      summarise_at(.vars = tar_col, .funs = mean)   # the mean of the output based on each category\n",
        "    \n",
        "    colnames(feat)[2] <- col_name\n",
        "    temp_df <- xvalid %>% \n",
        "      left_join(feat, by = enc_col) %>% \n",
        "      select(all_of(enc_col), all_of(col_name))\n",
        "    \n",
        "    return(temp_df)\n",
        "  })\n",
        "  \n",
        "  temp_enc <- temp %>% \n",
        "    group_by_at(.vars = enc_col) %>% \n",
        "    summarise_at(.vars = col_name, .funs = mean) %>%    # the mean of encoded categories from all folds\n",
        "    ungroup()\n",
        "  \n",
        "  data %>% \n",
        "    left_join(temp_enc, by = enc_col)\n",
        "}"
      ],
      "metadata": {
        "id": "ERrfJFTdxdYG"
      },
      "execution_count": 195,
      "outputs": []
    },
    {
      "cell_type": "code",
      "source": [
        "# encode training data\n",
        "train_data <- target_enc(data = train_data, \n",
        "                                 enc_col = \"country\",           # the column to be encoded\n",
        "                                 tar_col = \"life_expectancy\",   # the target column\n",
        "                                 k_col = \"k\",\n",
        "                                 kmin = 1, kmax = 5)            # 5 folds\n",
        "\n",
        "train_data %>% \n",
        "  distinct(country, tar_enc_country) %>% \n",
        "  head(10)"
      ],
      "metadata": {
        "colab": {
          "base_uri": "https://localhost:8080/",
          "height": 412
        },
        "id": "Y-vHcVylRfft",
        "outputId": "19e81e2d-ff83-4773-a7a1-6d69083613f7"
      },
      "execution_count": 196,
      "outputs": [
        {
          "output_type": "display_data",
          "data": {
            "text/html": [
              "<table class=\"dataframe\">\n",
              "<caption>A tibble: 10 × 2</caption>\n",
              "<thead>\n",
              "\t<tr><th scope=col>country</th><th scope=col>tar_enc_country</th></tr>\n",
              "\t<tr><th scope=col>&lt;fct&gt;</th><th scope=col>&lt;dbl&gt;</th></tr>\n",
              "</thead>\n",
              "<tbody>\n",
              "\t<tr><td>Gambia             </td><td>59.53029</td></tr>\n",
              "\t<tr><td>Czechia            </td><td>76.87565</td></tr>\n",
              "\t<tr><td>Benin              </td><td>57.44955</td></tr>\n",
              "\t<tr><td>Croatia            </td><td>75.84111</td></tr>\n",
              "\t<tr><td>Nepal              </td><td>66.31357</td></tr>\n",
              "\t<tr><td>Slovenia           </td><td>80.07917</td></tr>\n",
              "\t<tr><td>Papua New Guinea   </td><td>62.06704</td></tr>\n",
              "\t<tr><td>Republic of Moldova</td><td>69.21841</td></tr>\n",
              "\t<tr><td>Burundi            </td><td>55.95390</td></tr>\n",
              "\t<tr><td>Nicaragua          </td><td>73.33222</td></tr>\n",
              "</tbody>\n",
              "</table>\n"
            ],
            "text/markdown": "\nA tibble: 10 × 2\n\n| country &lt;fct&gt; | tar_enc_country &lt;dbl&gt; |\n|---|---|\n| Gambia              | 59.53029 |\n| Czechia             | 76.87565 |\n| Benin               | 57.44955 |\n| Croatia             | 75.84111 |\n| Nepal               | 66.31357 |\n| Slovenia            | 80.07917 |\n| Papua New Guinea    | 62.06704 |\n| Republic of Moldova | 69.21841 |\n| Burundi             | 55.95390 |\n| Nicaragua           | 73.33222 |\n\n",
            "text/latex": "A tibble: 10 × 2\n\\begin{tabular}{ll}\n country & tar\\_enc\\_country\\\\\n <fct> & <dbl>\\\\\n\\hline\n\t Gambia              & 59.53029\\\\\n\t Czechia             & 76.87565\\\\\n\t Benin               & 57.44955\\\\\n\t Croatia             & 75.84111\\\\\n\t Nepal               & 66.31357\\\\\n\t Slovenia            & 80.07917\\\\\n\t Papua New Guinea    & 62.06704\\\\\n\t Republic of Moldova & 69.21841\\\\\n\t Burundi             & 55.95390\\\\\n\t Nicaragua           & 73.33222\\\\\n\\end{tabular}\n",
            "text/plain": [
              "   country             tar_enc_country\n",
              "1  Gambia              59.53029       \n",
              "2  Czechia             76.87565       \n",
              "3  Benin               57.44955       \n",
              "4  Croatia             75.84111       \n",
              "5  Nepal               66.31357       \n",
              "6  Slovenia            80.07917       \n",
              "7  Papua New Guinea    62.06704       \n",
              "8  Republic of Moldova 69.21841       \n",
              "9  Burundi             55.95390       \n",
              "10 Nicaragua           73.33222       "
            ]
          },
          "metadata": {}
        }
      ]
    },
    {
      "cell_type": "code",
      "source": [
        "# apply the same transformations to the test data\n",
        "test_data <- predict(bagMissing, test_data)\n",
        "\n",
        "\n",
        "set.seed(123)\n",
        "test_data <- test_data %>% \n",
        "  mutate(k = sample(1:5, size = nrow(.), replace = TRUE))\n",
        "\n",
        "test_data <- target_enc(data = test_data, \n",
        "                         enc_col = \"country\",\n",
        "                         tar_col = \"life_expectancy\", \n",
        "                         k_col = \"k\",\n",
        "                         kmin = 1, kmax = 5)\n",
        "\n",
        "\n",
        "names(test_data) <- names(train_data)       # make sure the names are the same"
      ],
      "metadata": {
        "id": "RBpvwf5j0Grw"
      },
      "execution_count": 197,
      "outputs": []
    },
    {
      "cell_type": "code",
      "source": [
        "# !!! after encoding, the encoded test data have some missing values on the tar_enc_col column due to the lack of data\n",
        "test_data %>% \n",
        "  distinct(country, tar_enc_country) %>%\n",
        "  head(10) \n",
        "\n",
        "# remove rows that have missing values\n",
        "test_data <- test_data %>% \n",
        "  filter(!is.na(tar_enc_country)) "
      ],
      "metadata": {
        "id": "Dt9coeL_1DNE",
        "colab": {
          "base_uri": "https://localhost:8080/",
          "height": 412
        },
        "outputId": "fd95c44b-f94b-417e-e75f-5c2812f7b4e7"
      },
      "execution_count": 198,
      "outputs": [
        {
          "output_type": "display_data",
          "data": {
            "text/html": [
              "<table class=\"dataframe\">\n",
              "<caption>A tibble: 10 × 2</caption>\n",
              "<thead>\n",
              "\t<tr><th scope=col>country</th><th scope=col>tar_enc_country</th></tr>\n",
              "\t<tr><th scope=col>&lt;fct&gt;</th><th scope=col>&lt;dbl&gt;</th></tr>\n",
              "</thead>\n",
              "<tbody>\n",
              "\t<tr><td>Afghanistan        </td><td>57.75000</td></tr>\n",
              "\t<tr><td>Albania            </td><td>75.41238</td></tr>\n",
              "\t<tr><td>Algeria            </td><td>73.36500</td></tr>\n",
              "\t<tr><td>Angola             </td><td>48.23333</td></tr>\n",
              "\t<tr><td>Antigua and Barbuda</td><td>76.00000</td></tr>\n",
              "\t<tr><td>Argentina          </td><td>75.21667</td></tr>\n",
              "\t<tr><td>Armenia            </td><td>73.68167</td></tr>\n",
              "\t<tr><td>Australia          </td><td>81.72500</td></tr>\n",
              "\t<tr><td>Austria            </td><td>      NA</td></tr>\n",
              "\t<tr><td>Azerbaijan         </td><td>71.10000</td></tr>\n",
              "</tbody>\n",
              "</table>\n"
            ],
            "text/markdown": "\nA tibble: 10 × 2\n\n| country &lt;fct&gt; | tar_enc_country &lt;dbl&gt; |\n|---|---|\n| Afghanistan         | 57.75000 |\n| Albania             | 75.41238 |\n| Algeria             | 73.36500 |\n| Angola              | 48.23333 |\n| Antigua and Barbuda | 76.00000 |\n| Argentina           | 75.21667 |\n| Armenia             | 73.68167 |\n| Australia           | 81.72500 |\n| Austria             |       NA |\n| Azerbaijan          | 71.10000 |\n\n",
            "text/latex": "A tibble: 10 × 2\n\\begin{tabular}{ll}\n country & tar\\_enc\\_country\\\\\n <fct> & <dbl>\\\\\n\\hline\n\t Afghanistan         & 57.75000\\\\\n\t Albania             & 75.41238\\\\\n\t Algeria             & 73.36500\\\\\n\t Angola              & 48.23333\\\\\n\t Antigua and Barbuda & 76.00000\\\\\n\t Argentina           & 75.21667\\\\\n\t Armenia             & 73.68167\\\\\n\t Australia           & 81.72500\\\\\n\t Austria             &       NA\\\\\n\t Azerbaijan          & 71.10000\\\\\n\\end{tabular}\n",
            "text/plain": [
              "   country             tar_enc_country\n",
              "1  Afghanistan         57.75000       \n",
              "2  Albania             75.41238       \n",
              "3  Algeria             73.36500       \n",
              "4  Angola              48.23333       \n",
              "5  Antigua and Barbuda 76.00000       \n",
              "6  Argentina           75.21667       \n",
              "7  Armenia             73.68167       \n",
              "8  Australia           81.72500       \n",
              "9  Austria                   NA       \n",
              "10 Azerbaijan          71.10000       "
            ]
          },
          "metadata": {}
        }
      ]
    },
    {
      "cell_type": "markdown",
      "source": [
        "### **Build Training Models**"
      ],
      "metadata": {
        "id": "nJo1qSz31D_4"
      }
    },
    {
      "cell_type": "code",
      "source": [
        "## linear regression\n",
        "set.seed(5)\n",
        "ctrl <- trainControl(method = \"repeatedcv\",\n",
        "                     number = 5,\n",
        "                     repeats = 5, \n",
        "                     verboseIter = FALSE)\n",
        "\n",
        "lm_model <- train(life_expectancy ~ . - country - k,\n",
        "            data = train_data,\n",
        "            method = \"lm\",\n",
        "            na.action = na.omit,\n",
        "            trControl = ctrl)\n",
        "\n",
        "# varImp(lm_model)\n",
        "ggplot(varImp(lm_model)) +\n",
        "  theme_minimal() +\n",
        "  labs(title = \"Life Expectancy Variable Importance (Linear Regression)\")"
      ],
      "metadata": {
        "id": "diFJnk4rFvEc",
        "colab": {
          "base_uri": "https://localhost:8080/",
          "height": 437
        },
        "outputId": "5eb2ff22-6026-4164-8f4b-c54ad75b1e0c"
      },
      "execution_count": 199,
      "outputs": [
        {
          "output_type": "display_data",
          "data": {
            "text/plain": [
              "plot without title"
            ],
            "image/png": "[encoded data removed]"
          },
          "metadata": {
            "image/png": {
              "width": 420,
              "height": 420
            }
          }
        }
      ]
    },
    {
      "cell_type": "code",
      "source": [
        "## ridge, lasso, and elastic net regression\n",
        "set.seed(5) \n",
        "grid <- expand.grid(alpha = c(0, 0.25, 0.5, 0.75, 1),  # 0 = ridge, 1 = lasso\n",
        "                    lambda = seq(0, 1, by=0.25))\n",
        "\n",
        "glmnet_model <- train(life_expectancy ~ . - country - k,\n",
        "               data = train_data,\n",
        "               method = \"glmnet\",\n",
        "               na.action = na.omit,\n",
        "               tuneGrid = grid,\n",
        "               trControl = ctrl)\n",
        "\n",
        "# varImp(glmnet_model)\n",
        "ggplot(varImp(glmnet_model)) +\n",
        "  theme_minimal() +\n",
        "  labs(title = \"Life Expectancy Variable Importance (glmnet)\")"
      ],
      "metadata": {
        "colab": {
          "base_uri": "https://localhost:8080/",
          "height": 437
        },
        "id": "L_aEoYaxVaMZ",
        "outputId": "ce6fe7a5-4cbe-4310-8337-4821e046ca64"
      },
      "execution_count": 200,
      "outputs": [
        {
          "output_type": "display_data",
          "data": {
            "text/plain": [
              "plot without title"
            ],
            "image/png": "[encoded data removed]"
          },
          "metadata": {
            "image/png": {
              "width": 420,
              "height": 420
            }
          }
        }
      ]
    },
    {
      "cell_type": "markdown",
      "source": [
        "### **Scoring/ Prediction**"
      ],
      "metadata": {
        "id": "oRRXVzss1NP1"
      }
    },
    {
      "cell_type": "code",
      "source": [
        "# linear regression model\n",
        "p_train_lm <- predict(lm_model)\n",
        "p_test_lm <- predict(lm_model, newdata = test_data)"
      ],
      "metadata": {
        "id": "bFsWjo081P4L"
      },
      "execution_count": 201,
      "outputs": []
    },
    {
      "cell_type": "code",
      "source": [
        "# glmnet model\n",
        "p_train_glmnet <- predict(glmnet_model)\n",
        "p_test_glmnet <- predict(glmnet_model, newdata = test_data)"
      ],
      "metadata": {
        "id": "4rnsb2qU1jLE"
      },
      "execution_count": 202,
      "outputs": []
    },
    {
      "cell_type": "markdown",
      "source": [
        "### **Model Evaluation**"
      ],
      "metadata": {
        "id": "Dz3PNtNd2See"
      }
    },
    {
      "cell_type": "code",
      "source": [
        "# linear regression model\n",
        "lm_model\n",
        "\n",
        "cat(\"\\n\\nRMSE of the training data:\", RMSE(p_train_lm, train_data$life_expectancy))\n",
        "cat(\"\\nRMSE of the test data:\", RMSE(p_test_lm, test_data$life_expectancy))"
      ],
      "metadata": {
        "colab": {
          "base_uri": "https://localhost:8080/",
          "height": 329
        },
        "id": "oOsFUPC52Vg5",
        "outputId": "3b07293b-df76-4ba1-a460-4506d4a1abe8"
      },
      "execution_count": 203,
      "outputs": [
        {
          "output_type": "display_data",
          "data": {
            "text/plain": [
              "Linear Regression \n",
              "\n",
              "2049 samples\n",
              "  23 predictor\n",
              "\n",
              "No pre-processing\n",
              "Resampling: Cross-Validated (5 fold, repeated 5 times) \n",
              "Summary of sample sizes: 1638, 1639, 1640, 1640, 1639, 1639, ... \n",
              "Resampling results:\n",
              "\n",
              "  RMSE      Rsquared   MAE     \n",
              "  1.983151  0.9569599  1.279932\n",
              "\n",
              "Tuning parameter 'intercept' was held constant at a value of TRUE"
            ]
          },
          "metadata": {}
        },
        {
          "output_type": "stream",
          "name": "stdout",
          "text": [
            "\n",
            "\n",
            "RMSE of the training data: 1.966967\n",
            "RMSE of the test data: 1.889534"
          ]
        }
      ]
    },
    {
      "cell_type": "code",
      "source": [
        "# glmnet model\n",
        "glmnet_model\n",
        "\n",
        "cat(\"\\n\\nRMSE of the training data:\", RMSE(p_train_glmnet, train_data$life_expectancy))\n",
        "cat(\"\\nRMSE of the test data:\", RMSE(p_test_glmnet, test_data$life_expectancy))"
      ],
      "metadata": {
        "colab": {
          "base_uri": "https://localhost:8080/",
          "height": 763
        },
        "id": "CB69nPfF9Hco",
        "outputId": "1ab5bf7f-88ce-48c0-f7fc-13f4491923bd"
      },
      "execution_count": 204,
      "outputs": [
        {
          "output_type": "display_data",
          "data": {
            "text/plain": [
              "glmnet \n",
              "\n",
              "2049 samples\n",
              "  23 predictor\n",
              "\n",
              "No pre-processing\n",
              "Resampling: Cross-Validated (5 fold, repeated 5 times) \n",
              "Summary of sample sizes: 1638, 1639, 1640, 1640, 1639, 1639, ... \n",
              "Resampling results across tuning parameters:\n",
              "\n",
              "  alpha  lambda  RMSE      Rsquared   MAE     \n",
              "  0.00   0.00    2.299029  0.9440434  1.584786\n",
              "  0.00   0.25    2.299029  0.9440434  1.584786\n",
              "  0.00   0.50    2.299029  0.9440434  1.584786\n",
              "  0.00   0.75    2.299029  0.9440434  1.584786\n",
              "  0.00   1.00    2.329421  0.9426949  1.611675\n",
              "  0.25   0.00    1.991283  0.9566214  1.288593\n",
              "  0.25   0.25    2.018435  0.9558915  1.307509\n",
              "  0.25   0.50    2.085947  0.9540113  1.355945\n",
              "  0.25   0.75    2.169737  0.9517123  1.420164\n",
              "  0.25   1.00    2.259952  0.9492903  1.493620\n",
              "  0.50   0.00    1.990498  0.9566520  1.284830\n",
              "  0.50   0.25    2.012791  0.9562998  1.278860\n",
              "  0.50   0.50    2.073491  0.9553444  1.310424\n",
              "  0.50   0.75    2.161803  0.9539536  1.380735\n",
              "  0.50   1.00    2.270955  0.9521614  1.478418\n",
              "  0.75   0.00    1.990858  0.9566391  1.282436\n",
              "  0.75   0.25    2.015790  0.9563126  1.262877\n",
              "  0.75   0.50    2.089498  0.9552706  1.301387\n",
              "  0.75   0.75    2.201733  0.9535934  1.393426\n",
              "  0.75   1.00    2.346867  0.9511193  1.529296\n",
              "  1.00   0.00    1.990473  0.9566501  1.281743\n",
              "  1.00   0.25    2.028474  0.9558684  1.257937\n",
              "  1.00   0.50    2.131512  0.9537665  1.310429\n",
              "  1.00   0.75    2.289526  0.9501418  1.436157\n",
              "  1.00   1.00    2.489297  0.9448321  1.620040\n",
              "\n",
              "RMSE was used to select the optimal model using the smallest value.\n",
              "The final values used for the model were alpha = 1 and lambda = 0."
            ]
          },
          "metadata": {}
        },
        {
          "output_type": "stream",
          "name": "stdout",
          "text": [
            "\n",
            "\n",
            "RMSE of the training data: 1.981669\n",
            "RMSE of the test data: 1.879851"
          ]
        }
      ]
    }
  ]
}