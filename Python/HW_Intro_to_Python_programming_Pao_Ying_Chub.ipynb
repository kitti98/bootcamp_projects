{
  "nbformat": 4,
  "nbformat_minor": 0,
  "metadata": {
    "colab": {
      "provenance": []
    },
    "kernelspec": {
      "name": "python3",
      "display_name": "Python 3"
    },
    "language_info": {
      "name": "python"
    }
  },
  "cells": [
    {
      "cell_type": "markdown",
      "source": [
        "# **Pao Ying Chub**\n",
        "Pao Ying Chub using Python"
      ],
      "metadata": {
        "id": "WEXUcq62Ey_U"
      }
    },
    {
      "cell_type": "code",
      "source": [
        "import random as rd"
      ],
      "metadata": {
        "id": "i4QIQZqVE5YI"
      },
      "execution_count": 1,
      "outputs": []
    },
    {
      "cell_type": "code",
      "source": [
        "def PaoYingChub() -> None:\n",
        "    # getting started\n",
        "    print(\"Welcome to Pao Ying Chub...\")\n",
        "    name = input(\"What's your name? -> \")\n",
        "    print(f\"Hi, {name}! Let's play...\")\n",
        "    print(\"Rock, Paper, Scissors, Shoot! \")\n",
        "\n",
        "    # counter\n",
        "    count_round: int = 0\n",
        "    count_win: int = 0\n",
        "    count_lose: int = 0\n",
        "    count_draw: int = 0\n",
        "\n",
        "    # an empty string to store the player's choice\n",
        "    player = \"\"\n",
        "\n",
        "    # loop\n",
        "    while player != 'Gotta Go!':\n",
        "        \n",
        "        # count the number of rounds\n",
        "        count_round += 1\n",
        "\n",
        "        # bot\n",
        "        bot = rd.choice(['Rock', 'Paper', 'Scissor'])\n",
        "\n",
        "        # get input from player\n",
        "        try:\n",
        "            number = int(input(\"\\nChoose a number -> 1: Rock, 2: Paper, 3: Scissor, 4: Score?, 5: Gotta Go! => \"))\n",
        "            if number == 1:\n",
        "                player = 'Rock'\n",
        "            elif number == 2:\n",
        "                player = 'Paper'\n",
        "            elif number == 3:\n",
        "                player = 'Scissor'\n",
        "            elif number == 4:\n",
        "                player = 'Score?'\n",
        "            elif number == 5:\n",
        "                player = 'Gotta Go!'\n",
        "            else:  # the number entered is not 1-5\n",
        "                player = 'WRONG NUMBER'\n",
        "                print(f'{number} is the WRONG number!!! Please try again...')\n",
        "                count_round -= 1\n",
        "        except ValueError:      # in case of getting a string instead of a number \n",
        "            print(\"That's NOT a number!!! Please try again...\")\n",
        "            player = \"Continue\"\n",
        "            count_round -= 1\n",
        "\n",
        "\n",
        "        # scoring\n",
        "        if ((player == 'Rock'    and bot == 'Scissor') or\\\n",
        "            (player == 'Paper'   and bot == 'Rock'   ) or\\\n",
        "            (player == 'Scissor' and bot == 'Paper'  )):  # win\n",
        "            count_win += 1\n",
        "        elif player == bot:  # draw\n",
        "            count_draw += 1\n",
        "        elif ((player == 'Scissor' and bot == 'Rock'   ) or\\\n",
        "            (player == 'Rock'     and bot == 'Paper'  ) or\\\n",
        "            (player == 'Paper'    and bot == 'Scissor')):  # lose\n",
        "            count_lose += 1\n",
        "\n",
        "        # display\n",
        "        if player in ['Rock', 'Paper', 'Scissor']:  # each round\n",
        "            print(f\"Round: {count_round} -> {name}: {player} VS. Bot: {bot}\")\n",
        "        elif player == 'Score?':  # check score\n",
        "            count_round -= 1\n",
        "            print('Score?')\n",
        "            print(f\"The number of rounds you played: {count_round}\")\n",
        "            print(f\"Your score -> Win: {count_win} Draw: {count_draw} Lose: {count_lose}\")\n",
        "        elif player == 'Gotta Go!':  # quit the game\n",
        "            count_round -= 1 \n",
        "            print('Gotta Go?.. Kay Bye!')\n",
        "            print(f\"The number of rounds you played: {count_round}\")\n",
        "            print(f\"{name}'s score -> Win: {count_win} Draw: {count_draw} Lose: {count_lose}\")"
      ],
      "metadata": {
        "id": "pgSml6OcE9M7"
      },
      "execution_count": 2,
      "outputs": []
    },
    {
      "cell_type": "code",
      "source": [
        "PaoYingChub()"
      ],
      "metadata": {
        "colab": {
          "base_uri": "https://localhost:8080/"
        },
        "id": "YppKxYXNE96n",
        "outputId": "a5fab3a5-44c1-4c6e-9833-86f54ae4207e"
      },
      "execution_count": 3,
      "outputs": [
        {
          "output_type": "stream",
          "name": "stdout",
          "text": [
            "Welcome to Pao Ying Chub...\n",
            "What's your name? -> Anya\n",
            "Hi, Anya! Let's play...\n",
            "Rock, Paper, Scissors, Shoot! \n",
            "\n",
            "Choose a number -> 1: Rock, 2: Paper, 3: Scissor, 4: Score?, 5: Gotta Go! => 1\n",
            "Round: 1 -> Anya: Rock VS. Bot: Paper\n",
            "\n",
            "Choose a number -> 1: Rock, 2: Paper, 3: Scissor, 4: Score?, 5: Gotta Go! => 2\n",
            "Round: 2 -> Anya: Paper VS. Bot: Rock\n",
            "\n",
            "Choose a number -> 1: Rock, 2: Paper, 3: Scissor, 4: Score?, 5: Gotta Go! => 3\n",
            "Round: 3 -> Anya: Scissor VS. Bot: Paper\n",
            "\n",
            "Choose a number -> 1: Rock, 2: Paper, 3: Scissor, 4: Score?, 5: Gotta Go! => oidasfhj\n",
            "That's NOT a number!!! Please try again...\n",
            "\n",
            "Choose a number -> 1: Rock, 2: Paper, 3: Scissor, 4: Score?, 5: Gotta Go! => 88\n",
            "88 is the WRONG number!!! Please try again...\n",
            "\n",
            "Choose a number -> 1: Rock, 2: Paper, 3: Scissor, 4: Score?, 5: Gotta Go! => 4\n",
            "Score?\n",
            "The number of rounds you played: 3\n",
            "Your score -> Win: 2 Draw: 0 Lose: 1\n",
            "\n",
            "Choose a number -> 1: Rock, 2: Paper, 3: Scissor, 4: Score?, 5: Gotta Go! => 5\n",
            "Gotta Go?.. Kay Bye!\n",
            "The number of rounds you played: 3\n",
            "Anya's score -> Win: 2 Draw: 0 Lose: 1\n"
          ]
        }
      ]
    }
  ]
}